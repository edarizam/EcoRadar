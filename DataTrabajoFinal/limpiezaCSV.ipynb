{
 "cells": [
  {
   "cell_type": "code",
   "execution_count": 46,
   "metadata": {
    "id": "nc4e36ssdOtt"
   },
   "outputs": [],
   "source": [
    "import pandas as pd"
   ]
  },
  {
   "cell_type": "code",
   "execution_count": 47,
   "metadata": {
    "id": "1p1H-9cSdOtw",
    "outputId": "b56fa51c-bf52-4a02-a332-4a0264cecd2c"
   },
   "outputs": [
    {
     "data": {
      "text/html": [
       "<div>\n",
       "<style scoped>\n",
       "    .dataframe tbody tr th:only-of-type {\n",
       "        vertical-align: middle;\n",
       "    }\n",
       "\n",
       "    .dataframe tbody tr th {\n",
       "        vertical-align: top;\n",
       "    }\n",
       "\n",
       "    .dataframe thead th {\n",
       "        text-align: right;\n",
       "    }\n",
       "</style>\n",
       "<table border=\"1\" class=\"dataframe\">\n",
       "  <thead>\n",
       "    <tr style=\"text-align: right;\">\n",
       "      <th></th>\n",
       "      <th>Entity</th>\n",
       "      <th>Code</th>\n",
       "      <th>Year</th>\n",
       "      <th>Solar Capacity</th>\n",
       "    </tr>\n",
       "  </thead>\n",
       "  <tbody>\n",
       "    <tr>\n",
       "      <th>0</th>\n",
       "      <td>Africa</td>\n",
       "      <td>NaN</td>\n",
       "      <td>1996</td>\n",
       "      <td>0.001112</td>\n",
       "    </tr>\n",
       "    <tr>\n",
       "      <th>1</th>\n",
       "      <td>Africa</td>\n",
       "      <td>NaN</td>\n",
       "      <td>1997</td>\n",
       "      <td>0.003137</td>\n",
       "    </tr>\n",
       "    <tr>\n",
       "      <th>2</th>\n",
       "      <td>Africa</td>\n",
       "      <td>NaN</td>\n",
       "      <td>1998</td>\n",
       "      <td>0.005162</td>\n",
       "    </tr>\n",
       "    <tr>\n",
       "      <th>3</th>\n",
       "      <td>Africa</td>\n",
       "      <td>NaN</td>\n",
       "      <td>1999</td>\n",
       "      <td>0.008199</td>\n",
       "    </tr>\n",
       "    <tr>\n",
       "      <th>4</th>\n",
       "      <td>Africa</td>\n",
       "      <td>NaN</td>\n",
       "      <td>2000</td>\n",
       "      <td>0.010927</td>\n",
       "    </tr>\n",
       "    <tr>\n",
       "      <th>...</th>\n",
       "      <td>...</td>\n",
       "      <td>...</td>\n",
       "      <td>...</td>\n",
       "      <td>...</td>\n",
       "    </tr>\n",
       "    <tr>\n",
       "      <th>1654</th>\n",
       "      <td>World</td>\n",
       "      <td>OWID_WRL</td>\n",
       "      <td>2017</td>\n",
       "      <td>390.206530</td>\n",
       "    </tr>\n",
       "    <tr>\n",
       "      <th>1655</th>\n",
       "      <td>World</td>\n",
       "      <td>OWID_WRL</td>\n",
       "      <td>2018</td>\n",
       "      <td>483.011800</td>\n",
       "    </tr>\n",
       "    <tr>\n",
       "      <th>1656</th>\n",
       "      <td>World</td>\n",
       "      <td>OWID_WRL</td>\n",
       "      <td>2019</td>\n",
       "      <td>584.685700</td>\n",
       "    </tr>\n",
       "    <tr>\n",
       "      <th>1657</th>\n",
       "      <td>World</td>\n",
       "      <td>OWID_WRL</td>\n",
       "      <td>2020</td>\n",
       "      <td>710.281100</td>\n",
       "    </tr>\n",
       "    <tr>\n",
       "      <th>1658</th>\n",
       "      <td>World</td>\n",
       "      <td>OWID_WRL</td>\n",
       "      <td>2021</td>\n",
       "      <td>843.086060</td>\n",
       "    </tr>\n",
       "  </tbody>\n",
       "</table>\n",
       "<p>1659 rows × 4 columns</p>\n",
       "</div>"
      ],
      "text/plain": [
       "      Entity      Code  Year  Solar Capacity\n",
       "0     Africa       NaN  1996        0.001112\n",
       "1     Africa       NaN  1997        0.003137\n",
       "2     Africa       NaN  1998        0.005162\n",
       "3     Africa       NaN  1999        0.008199\n",
       "4     Africa       NaN  2000        0.010927\n",
       "...      ...       ...   ...             ...\n",
       "1654   World  OWID_WRL  2017      390.206530\n",
       "1655   World  OWID_WRL  2018      483.011800\n",
       "1656   World  OWID_WRL  2019      584.685700\n",
       "1657   World  OWID_WRL  2020      710.281100\n",
       "1658   World  OWID_WRL  2021      843.086060\n",
       "\n",
       "[1659 rows x 4 columns]"
      ]
     },
     "execution_count": 47,
     "metadata": {},
     "output_type": "execute_result"
    }
   ],
   "source": [
    "share_energy_df = pd.read_csv('CSVS\\\\01 renewable-share-energy.csv')\n",
    "production_df = pd.read_csv('CSVS\\\\03 modern-renewable-prod.csv')\n",
    "consumption_df = pd.read_csv('CSVS\\\\02 modern-renewable-energy-consumption.csv')\n",
    "\n",
    "solar_cap_df = pd.read_csv('CSVS\\\\13 installed-solar-PV-capacity.csv')\n",
    "solar_cap_df"
   ]
  },
  {
   "cell_type": "code",
   "execution_count": 48,
   "metadata": {
    "id": "XKHC1t4SdOty",
    "outputId": "d18fd00c-3ccd-40e1-e9fb-eca89e181233"
   },
   "outputs": [],
   "source": [
    "merged_df = production_df.merge(consumption_df , on = ['Entity', 'Year', 'Code'], how='outer')\n",
    "merged_df = merged_df.merge(share_energy_df , on = ['Entity', 'Year', 'Code'], how='outer')\n",
    "merged_df = merged_df.merge(solar_cap_df, on = ['Entity', 'Year', 'Code'], how='outer')"
   ]
  },
  {
   "cell_type": "code",
   "execution_count": 49,
   "metadata": {
    "id": "8sa2vV01rA-d"
   },
   "outputs": [],
   "source": [
    "# Normalización de los datos y creación de las tablas"
   ]
  },
  {
   "cell_type": "code",
   "execution_count": 50,
   "metadata": {
    "id": "-MLJykUBdOtz"
   },
   "outputs": [],
   "source": [
    "# Crear la tabla de países/regiones sin duplicados\n",
    "countries_df = merged_df[['Entity', 'Code']].drop_duplicates().reset_index(drop=True)\n",
    "countries_df['country_id'] = countries_df.index + 1\n",
    "countries_df = countries_df[['country_id', 'Entity', 'Code']]"
   ]
  },
  {
   "cell_type": "code",
   "execution_count": 51,
   "metadata": {
    "id": "dXyQauYArL0q"
   },
   "outputs": [],
   "source": [
    "# Crear el DataFrame de continentes utilizando diccionario por registro\n",
    "data_continentes = [\n",
    "    {'Continent': 'Africa', 'continent_id': 1},\n",
    "    {'Continent': 'North America', 'continent_id': 2},\n",
    "    {'Continent': 'South America', 'continent_id': 3},\n",
    "    {'Continent': 'Oceania', 'continent_id': 4},\n",
    "    {'Continent': 'Europe', 'continent_id': 5},\n",
    "    {'Continent': 'Asia', 'continent_id': 6},\n",
    "    {'Continent': 'Regions', 'continent_id': 7},\n",
    "    {'Continent': 'Other', 'continent_id': 8}\n",
    "]\n",
    "\n",
    "# Crear el DataFrame\n",
    "continentes_df = pd.DataFrame(data_continentes)\n",
    "continentes_df = continentes_df[['continent_id', 'Continent']]\n",
    "\n",
    "# Usamos un csv con los países y su respectivo continente\n",
    "continentes_paises_df = pd.read_csv('CSVS\\\\18 Countries by continents.csv')\n",
    "continentes_paises_df = continentes_paises_df.rename(columns={'Country':'Entity'})\n",
    "\n",
    "# Asignar el continente al país usando el csv\n",
    "countries_df = countries_df.merge(continentes_paises_df, on='Entity', how='left')\n",
    "\n",
    "# Confirmamos los países africanos 54/54 + ['Reunion', 'Saint Helena', 'Western Sahara']\n",
    "africa_countries = [\n",
    "    \"Algeria\", \"Angola\", \"Benin\", \"Botswana\", \"Burkina Faso\", \"Burundi\", \"Cabo Verde\", \"Cameroon\",\n",
    "    \"Central African Republic\", \"Chad\", \"Comoros\", \"Democratic Republic of the Congo\", \"Cote d'Ivoire\",\n",
    "    \"Djibouti\", \"Egypt\", \"Eritrea\", \"Eswatini\", \"Ethiopia\", \"Gabon\", \"Gambia\", \"Ghana\", \"Guinea\",\n",
    "    \"Guinea-Bissau\", \"Equatorial Guinea\", \"Kenya\", \"Lesotho\", \"Liberia\", \"Libya\", \"Madagascar\", \"Malawi\",\n",
    "    \"Mali\", \"Mauritania\", \"Mauritius\", \"Morocco\", \"Mozambique\", \"Namibia\", \"Niger\", \"Nigeria\",\n",
    "    \"Republic of the Congo\", \"Rwanda\", \"São Tomé and Príncipe\", \"Senegal\", \"Seychelles\", \"Sierra Leone\",\n",
    "    \"Somalia\", \"South Africa\", \"South Sudan\", \"Sudan\", \"Tanzania\", \"Togo\", \"Tunisia\", \"Uganda\", \"Zambia\",\n",
    "    \"Zimbabwe\", \"Reunion\", \"Saint Helena\", \"Western Sahara\"\n",
    "]\n",
    "countries_df.loc[countries_df['Entity'].isin(africa_countries), 'Continent'] = 'Africa'\n",
    "\n",
    "# Confirmamos los países 45/49 + [\"Faeroe Islands\", \"Gibraltar\", \"USSR\"] 47/49\n",
    "europe_countries = [\n",
    "    \"Albania\", \"Andorra\", \"Austria\", \"Belarus\", \"Belgium\", \"Bosnia and Herzegovina\", \"Bulgaria\", \n",
    "    \"Croatia\", \"Cyprus\", \"Czech Republic\", \"Denmark\", \"Estonia\", \"Finland\", \"France\", \"Germany\", \n",
    "    \"Greece\", \"Hungary\", \"Iceland\", \"Ireland\", \"Italy\", \"Kosovo\", \"Latvia\", \"Liechtenstein\", \"Lithuania\", \n",
    "    \"Luxembourg\", \"Malta\", \"Moldova\", \"Monaco\", \"Montenegro\", \"Netherlands\", \"North Macedonia\", \"Norway\", \n",
    "    \"Poland\", \"Portugal\", \"Romania\", \"Russia\", \"San Marino\", \"Serbia\", \"Slovakia\", \"Slovenia\", \"Spain\", \n",
    "    \"Sweden\", \"Switzerland\", \"Ukraine\", \"United Kingdom\", \"Vatican City\", \"Armenia\", \"Azerbaijan\", \n",
    "    \"Georgia\", \"Turkey\", \"Faeroe Islands\", \"Gibraltar\", \"USSR\"\n",
    "]\n",
    "countries_df.loc[countries_df['Entity'].isin(europe_countries), 'Continent'] = 'Europe'\n",
    "\n",
    "# Confirmamos los países de Oceania 10/14 + [\"American Samoa\",\"Cook Islands\",\"Guam\",\"New Caledonia\",\"Niue\",\"French Polynesia\"] 16/14\n",
    "oceania_countries = [\n",
    "    \"Australia\", \"Fiji\", \"Kiribati\", \"Marshall Islands\", \"Micronesia\", \"Nauru\", \"New Zealand\",\n",
    "    \"Palau\", \"Papua New Guinea\", \"Samoa\", \"Solomon Islands\", \"Tonga\", \"Tuvalu\", \"Vanuatu\", \"American Samoa\", \"Cook Islands\", \"Guam\", \"New Caledonia\", \"Niue\", \"French Polynesia\"\n",
    "]\n",
    "countries_df.loc[countries_df['Entity'].isin(oceania_countries), 'Continent'] = 'Oceania' #Falta palau, tuvalu, Marshall islands y micronesia\n",
    "\n",
    "# Confirmamos los países de Asia 49/49 + [\"Macao\", \"Timor\"] 51/49\n",
    "asia_countries = [\n",
    "    \"Afghanistan\", \"Armenia\", \"Azerbaijan\", \"Bahrain\", \"Bangladesh\", \"Bhutan\", \"Brunei\", \"Cambodia\", \n",
    "    \"China\", \"Cyprus\", \"Georgia\", \"India\", \"Indonesia\", \"Iran\", \"Iraq\", \"Israel\", \"Japan\", \"Jordan\", \n",
    "    \"Kazakhstan\", \"Kuwait\", \"Kyrgyzstan\", \"Laos\", \"Lebanon\", \"Malaysia\", \"Maldives\", \"Mongolia\", \n",
    "    \"Myanmar\", \"Nepal\", \"North Korea\", \"Oman\", \"Pakistan\", \"Palestine\", \"Philippines\", \"Qatar\", \n",
    "    \"Saudi Arabia\", \"Singapore\", \"South Korea\", \"Sri Lanka\", \"Syria\", \"Tajikistan\", \"Thailand\", \n",
    "    \"Timor-Leste\", \"Turkey\", \"Turkmenistan\", \"United Arab Emirates\", \"Uzbekistan\", \"Vietnam\", \"Yemen\", \"Macao\", \"Timor\"\n",
    "]\n",
    "countries_df.loc[countries_df['Entity'].isin(asia_countries), 'Continent'] = 'Asia'\n",
    "\n",
    "# Confirmamos los países que hacen parte de North America + [\"Bermuda\", \"Greenland\", 'Saint Pierre and Miquelon'] (26)\n",
    "north_america_countries = [\"Bermuda\", \"Greenland\", \"Saint Pierre and Miquelon\"]\n",
    "countries_df.loc[countries_df['Entity'].isin(north_america_countries), \"Continent\"] = \"North America\"\n",
    "\n",
    "# Confirmamos los países que hacen parte de South America (Incluyendo islas del caribe)\n",
    "south_america_countries = [\"Aruba\",\"British Virgin Islands\",\"Cayman Islands\",\"Guadeloupe\",\"Martinique\",\"Montserrat\",\"Puerto Rico\",\"Turks and Caicos Islands\",\"United States Virgin Islands\",\"Falkland Islands\", \"French Guiana\"]\n",
    "countries_df.loc[countries_df['Entity'].isin(south_america_countries), \"Continent\"] = \"South America\"\n",
    "\n",
    "# Other categories\n",
    "other_categories = [\"CIS (BP)\", \"G20 (Ember)\", \"G7 (Ember)\", \"High-income countries\", \"Low-income countries\", \"Lower-middle-income countries\", \"Non-OECD (BP)\", \"OECD (BP)\", \"OECD (Ember)\", \"Upper-middle-income countries\", \"World\"]\n",
    "countries_df.loc[countries_df['Entity'].isin(other_categories), 'Continent'] = 'Other'\n",
    "\n",
    "# Regions\n",
    "regions = [\n",
    "    \"Africa\", \"Africa (BP)\", \"Africa (Ember)\", \"Asia\", \"Asia (Ember)\",\n",
    "    \"Asia Pacific (BP)\", \"Central America (BP)\", \"Eastern Africa (BP)\", \"Europe\",\n",
    "    \"Europe (BP)\", \"Europe (Ember)\", \"European Union (27)\",\n",
    "    \"European Union (27) (Ember)\", \"Latin America and Caribbean (Ember)\",\n",
    "    \"Middle Africa (BP)\", \"Middle East (BP)\", \"North America\",\n",
    "    \"North America (BP)\", \"North America (Ember)\", \"Oceania\", \"Oceania (Ember)\",\n",
    "    \"South America\", \"South and Central America (BP)\", \"Western Africa (BP)\"\n",
    "]\n",
    "countries_df.loc[countries_df['Entity'].isin(regions), 'Continent'] = 'Regions'"
   ]
  },
  {
   "cell_type": "code",
   "execution_count": 52,
   "metadata": {},
   "outputs": [],
   "source": [
    "# Crear una nueva columna 'id_continente' y asignar el continente\n",
    "countries_df = countries_df.merge(continentes_df, on = 'Continent', how = 'left')\n",
    "countries_df = countries_df.drop(columns='Continent')\n",
    "countries_df = countries_df.reset_index(drop=True)"
   ]
  },
  {
   "cell_type": "code",
   "execution_count": 53,
   "metadata": {
    "id": "e_4Y1on8rJtz"
   },
   "outputs": [],
   "source": [
    "# Crear la tabla de años sin duplicados\n",
    "years_df = merged_df[['Year']].drop_duplicates().reset_index(drop = True).sort_values('Year')\n",
    "years_df.insert(0, 'year_id', range(1, len(years_df) + 1))"
   ]
  },
  {
   "cell_type": "code",
   "execution_count": 54,
   "metadata": {
    "id": "4Z_m6NPd3z3c"
   },
   "outputs": [],
   "source": [
    "# Datos comunes y preparación del values_df\n",
    "foreign_keys = ['country_id', 'year_id']"
   ]
  },
  {
   "cell_type": "code",
   "execution_count": 55,
   "metadata": {
    "id": "gbGaOoVE24N7"
   },
   "outputs": [],
   "source": [
    "# Crear la tabla de consumo conservando las llaves foráneas\n",
    "consumption_merged_df = consumption_df.merge(countries_df, on=['Entity', 'Code'], how='left')\n",
    "consumption_merged_df = consumption_merged_df.merge(years_df, on='Year', how='left')\n",
    "\n",
    "consumption_merged_df['Year'] = consumption_merged_df['Year'].astype(int) #Convierte columna Year a int  \n",
    "consumption_merged_df['country_id'] = consumption_merged_df['country_id'].astype(int) #Convierte columna Country_id a int  \n",
    "\n",
    "consumption_merged_df[['Geo Biomass Other - TWh', 'Solar Generation - TWh', 'Wind Generation - TWh', 'Hydro Generation - TWh']] = consumption_merged_df[['Geo Biomass Other - TWh', 'Solar Generation - TWh', 'Wind Generation - TWh', 'Hydro Generation - TWh']].fillna(0)\n",
    "\n",
    "consumption_merged_df = consumption_merged_df[['Geo Biomass Other - TWh', 'Solar Generation - TWh', 'Wind Generation - TWh', 'Hydro Generation - TWh'] + foreign_keys]\n",
    "\n",
    "consumption_merged_df.index += 1"
   ]
  },
  {
   "cell_type": "code",
   "execution_count": 56,
   "metadata": {
    "id": "AxppB6_T2__r"
   },
   "outputs": [],
   "source": [
    "# Crear la tabla de producción conservando las llaves foráneas\n",
    "production_merged_df = production_df.merge(countries_df, on=['Entity', 'Code'], how='left')\n",
    "production_merged_df = production_merged_df.merge(years_df, on='Year', how='left')\n",
    "\n",
    "production_merged_df['Year'] = production_merged_df['Year'].astype(int) #Convierte columna Year a int  \n",
    "production_merged_df['country_id'] = production_merged_df['country_id'].astype(int) #Convierte columna Country_id a int  \n",
    "\n",
    "production_merged_df[['Electricity from wind (TWh)', 'Electricity from hydro (TWh)', 'Electricity from solar (TWh)', 'Other renewables including bioenergy (TWh)']] = production_merged_df[['Electricity from wind (TWh)', 'Electricity from hydro (TWh)', 'Electricity from solar (TWh)', 'Other renewables including bioenergy (TWh)']].fillna(0)\n",
    "\n",
    "production_merged_df = production_merged_df[['Electricity from wind (TWh)', 'Electricity from hydro (TWh)', 'Electricity from solar (TWh)', 'Other renewables including bioenergy (TWh)'] + foreign_keys]\n",
    "\n",
    "production_merged_df.index += 1"
   ]
  },
  {
   "cell_type": "code",
   "execution_count": 57,
   "metadata": {
    "id": "pL_L-upG3AiE"
   },
   "outputs": [],
   "source": [
    "# Crear la tabla de porcentaje de energía renovable respecto al total conservando las llaves foráneas\n",
    "renewable_percent_merged_df = share_energy_df.merge(countries_df, on=['Entity', 'Code'], how='left')\n",
    "renewable_percent_merged_df = renewable_percent_merged_df.merge(years_df, on='Year', how='left')\n",
    "\n",
    "renewable_percent_merged_df['Year'] = renewable_percent_merged_df['Year'].astype(int) #Convierte columna Year a int  \n",
    "renewable_percent_merged_df['country_id'] = renewable_percent_merged_df['country_id'].astype(int) #Convierte columna Country_id a int  \n",
    "\n",
    "renewable_percent_merged_df[['Renewables (% equivalent primary energy)']] = renewable_percent_merged_df[['Renewables (% equivalent primary energy)']].fillna(0)\n",
    "\n",
    "renewable_percent_merged_df = renewable_percent_merged_df[['Renewables (% equivalent primary energy)'] + foreign_keys]\n",
    "renewable_percent_merged_df.index += 1"
   ]
  },
  {
   "cell_type": "code",
   "execution_count": 58,
   "metadata": {
    "id": "I4kbhiI83A-X"
   },
   "outputs": [],
   "source": [
    "# Crear la tabla de capacidad de energía solar conservando las llaves foráneas\n",
    "solar_capacity_merged_df = solar_cap_df.merge(countries_df, on=['Entity', 'Code'], how='left')\n",
    "solar_capacity_merged_df = solar_capacity_merged_df.merge(years_df, on='Year', how='left')\n",
    "\n",
    "solar_capacity_merged_df['Year'] = solar_capacity_merged_df['Year'].astype(int) #Convierte columna Year a int  \n",
    "solar_capacity_merged_df['country_id'] = solar_capacity_merged_df['country_id'].astype(int) #Convierte columna Country_id a int  \n",
    "\n",
    "solar_capacity_merged_df[['Solar Capacity']] = solar_capacity_merged_df[['Solar Capacity']].fillna(0)\n",
    "\n",
    "solar_capacity_merged_df = solar_capacity_merged_df[['Solar Capacity'] + foreign_keys]\n",
    "solar_capacity_merged_df.index += 1"
   ]
  },
  {
   "cell_type": "code",
   "execution_count": 59,
   "metadata": {
    "id": "42tq7bb6rQQi"
   },
   "outputs": [],
   "source": [
    "# Exportar los CSVs normalizados\n",
    "countries_df.to_csv('locations.csv', index=False)\n",
    "years_df.to_csv('years.csv', index=False)\n",
    "continentes_df.to_csv('regions.csv',index=False)\n",
    "consumption_merged_df.to_csv('consumption.csv')\n",
    "production_merged_df.to_csv('production.csv')\n",
    "renewable_percent_merged_df.to_csv('renewable_percent.csv')\n",
    "solar_capacity_merged_df.to_csv('solar_capacity.csv')"
   ]
  },
  {
   "cell_type": "code",
   "execution_count": 60,
   "metadata": {
    "id": "Gk3SFibKdOt0",
    "outputId": "edba5ffb-9bfb-45c1-d749-04942a802dce"
   },
   "outputs": [
    {
     "data": {
      "text/plain": [
       "\"\\n-- 1. Tabla para region\\nCREATE TABLE region (\\n    region_id INT PRIMARY KEY AUTO_INCREMENT,\\n    name VARCHAR(255) NOT NULL\\n);\\n\\n-- 2. Tabla para location\\nCREATE TABLE location (\\n    location_id INT PRIMARY KEY AUTO_INCREMENT,\\n    name VARCHAR(255) NOT NULL,\\n    code VARCHAR(10),\\n    region_id INT NULL,\\n    FOREIGN KEY (region_id) REFERENCES region(region_id) ON DELETE SET NULL ON UPDATE CASCADE\\n);\\n\\n-- 3. Tabla para year\\nCREATE TABLE year (\\n    year_id INT PRIMARY KEY AUTO_INCREMENT,\\n    year INT NOT NULL UNIQUE\\n);\\n\\n-- 4. Tabla para renewable_energy_consumption\\nCREATE TABLE renewable_energy_consumption (\\n    consumption_id INT PRIMARY KEY AUTO_INCREMENT,\\n    bioenergy_TWh DECIMAL(10,4) NOT NULL,\\n    solar_TWh DECIMAL(10,4) NOT NULL,\\n    wind_TWh DECIMAL(10,4) NOT NULL,\\n    hydro_TWh DECIMAL(10,4) NOT NULL,\\n    location_id INT NOT NULL,\\n    year_id INT NOT NULL,\\n    FOREIGN KEY (location_id) REFERENCES location(location_id) ON DELETE CASCADE ON UPDATE CASCADE,\\n    FOREIGN KEY (year_id) REFERENCES year(year_id) ON DELETE CASCADE ON UPDATE CASCADE\\n);\\n\\n-- 5. Tabla para renewable_energy_production\\nCREATE TABLE renewable_energy_production (\\n    production_id INT PRIMARY KEY AUTO_INCREMENT,\\n    wind_TWh DECIMAL(10,4) NOT NULL,\\n    hydro_TWh DECIMAL(10,4) NOT NULL,\\n    solar_TWh DECIMAL(10,4) NOT NULL,\\n    bioenergy_TWh DECIMAL(10,4) NOT NULL,\\n    location_id INT NOT NULL,\\n    year_id INT NOT NULL,\\n    FOREIGN KEY (location_id) REFERENCES location(location_id) ON DELETE CASCADE ON UPDATE CASCADE,\\n    FOREIGN KEY (year_id) REFERENCES year(year_id) ON DELETE CASCADE ON UPDATE CASCADE\\n);\\n\\n-- 6. Tabla para renewable_percent\\nCREATE TABLE renewable_percent (\\n    renewable_percent_id INT PRIMARY KEY AUTO_INCREMENT,\\n    percent DECIMAL(5,2) NOT NULL,\\n    location_id INT NOT NULL,\\n    year_id INT NOT NULL,\\n    FOREIGN KEY (location_id) REFERENCES location(location_id) ON DELETE CASCADE ON UPDATE CASCADE,\\n    FOREIGN KEY (year_id) REFERENCES year(year_id) ON DELETE CASCADE ON UPDATE CASCADE\\n);\\n\\n-- 7. Tabla para solar_capacity\\nCREATE TABLE solar_capacity (\\n    solar_capacity_id INT PRIMARY KEY AUTO_INCREMENT,\\n    percent DECIMAL(5,2) NOT NULL,\\n    location_id INT NOT NULL,\\n    year_id INT NOT NULL,\\n    FOREIGN KEY (location_id) REFERENCES location(location_id) ON DELETE CASCADE ON UPDATE CASCADE,\\n    FOREIGN KEY (year_id) REFERENCES year(year_id) ON DELETE CASCADE ON UPDATE CASCADE\\n);\\n\\n-- Ejemplos Select's\\nSELECT * FROM locations;\\nSELECT * FROM years;\\nSELECT * FROM regions;\\nSELECT * FROM consumption;\\nSELECT * FROM production;\\nSELECT * FROM renewable_percent;\\nSELECT * FROM solar_capacity;\\n\""
      ]
     },
     "execution_count": 60,
     "metadata": {},
     "output_type": "execute_result"
    }
   ],
   "source": [
    "\"\"\"\n",
    "-- 1. Tabla para region\n",
    "CREATE TABLE region (\n",
    "    region_id INT PRIMARY KEY AUTO_INCREMENT,\n",
    "    name VARCHAR(255) NOT NULL\n",
    ");\n",
    "\n",
    "-- 2. Tabla para location\n",
    "CREATE TABLE location (\n",
    "    location_id INT PRIMARY KEY AUTO_INCREMENT,\n",
    "    name VARCHAR(255) NOT NULL,\n",
    "    code VARCHAR(10),\n",
    "    region_id INT NULL,\n",
    "    FOREIGN KEY (region_id) REFERENCES region(region_id) ON DELETE SET NULL ON UPDATE CASCADE\n",
    ");\n",
    "\n",
    "-- 3. Tabla para year\n",
    "CREATE TABLE year (\n",
    "    year_id INT PRIMARY KEY AUTO_INCREMENT,\n",
    "    year INT NOT NULL UNIQUE\n",
    ");\n",
    "\n",
    "-- 4. Tabla para renewable_energy_consumption\n",
    "CREATE TABLE renewable_energy_consumption (\n",
    "    consumption_id INT PRIMARY KEY AUTO_INCREMENT,\n",
    "    bioenergy_TWh DECIMAL(10,4) NOT NULL,\n",
    "    solar_TWh DECIMAL(10,4) NOT NULL,\n",
    "    wind_TWh DECIMAL(10,4) NOT NULL,\n",
    "    hydro_TWh DECIMAL(10,4) NOT NULL,\n",
    "    location_id INT NOT NULL,\n",
    "    year_id INT NOT NULL,\n",
    "    FOREIGN KEY (location_id) REFERENCES location(location_id) ON DELETE CASCADE ON UPDATE CASCADE,\n",
    "    FOREIGN KEY (year_id) REFERENCES year(year_id) ON DELETE CASCADE ON UPDATE CASCADE\n",
    ");\n",
    "\n",
    "-- 5. Tabla para renewable_energy_production\n",
    "CREATE TABLE renewable_energy_production (\n",
    "    production_id INT PRIMARY KEY AUTO_INCREMENT,\n",
    "    wind_TWh DECIMAL(10,4) NOT NULL,\n",
    "    hydro_TWh DECIMAL(10,4) NOT NULL,\n",
    "    solar_TWh DECIMAL(10,4) NOT NULL,\n",
    "    bioenergy_TWh DECIMAL(10,4) NOT NULL,\n",
    "    location_id INT NOT NULL,\n",
    "    year_id INT NOT NULL,\n",
    "    FOREIGN KEY (location_id) REFERENCES location(location_id) ON DELETE CASCADE ON UPDATE CASCADE,\n",
    "    FOREIGN KEY (year_id) REFERENCES year(year_id) ON DELETE CASCADE ON UPDATE CASCADE\n",
    ");\n",
    "\n",
    "-- 6. Tabla para renewable_percent\n",
    "CREATE TABLE renewable_percent (\n",
    "    renewable_percent_id INT PRIMARY KEY AUTO_INCREMENT,\n",
    "    percent DECIMAL(5,2) NOT NULL,\n",
    "    location_id INT NOT NULL,\n",
    "    year_id INT NOT NULL,\n",
    "    FOREIGN KEY (location_id) REFERENCES location(location_id) ON DELETE CASCADE ON UPDATE CASCADE,\n",
    "    FOREIGN KEY (year_id) REFERENCES year(year_id) ON DELETE CASCADE ON UPDATE CASCADE\n",
    ");\n",
    "\n",
    "-- 7. Tabla para solar_capacity\n",
    "CREATE TABLE solar_capacity (\n",
    "    solar_capacity_id INT PRIMARY KEY AUTO_INCREMENT,\n",
    "    percent DECIMAL(5,2) NOT NULL,\n",
    "    location_id INT NOT NULL,\n",
    "    year_id INT NOT NULL,\n",
    "    FOREIGN KEY (location_id) REFERENCES location(location_id) ON DELETE CASCADE ON UPDATE CASCADE,\n",
    "    FOREIGN KEY (year_id) REFERENCES year(year_id) ON DELETE CASCADE ON UPDATE CASCADE\n",
    ");\n",
    "\n",
    "-- Ejemplos Select's\n",
    "SELECT * FROM locations;\n",
    "SELECT * FROM years;\n",
    "SELECT * FROM regions;\n",
    "SELECT * FROM consumption;\n",
    "SELECT * FROM production;\n",
    "SELECT * FROM renewable_percent;\n",
    "SELECT * FROM solar_capacity;\n",
    "\"\"\""
   ]
  }
 ],
 "metadata": {
  "colab": {
   "provenance": []
  },
  "kernelspec": {
   "display_name": "Python 3",
   "language": "python",
   "name": "python3"
  },
  "language_info": {
   "codemirror_mode": {
    "name": "ipython",
    "version": 3
   },
   "file_extension": ".py",
   "mimetype": "text/x-python",
   "name": "python",
   "nbconvert_exporter": "python",
   "pygments_lexer": "ipython3",
   "version": "3.13.2"
  }
 },
 "nbformat": 4,
 "nbformat_minor": 0
}
