{
 "cells": [
  {
   "cell_type": "code",
   "execution_count": 4125,
   "metadata": {
    "id": "nc4e36ssdOtt"
   },
   "outputs": [],
   "source": [
    "import pandas as pd"
   ]
  },
  {
   "cell_type": "code",
   "execution_count": 4126,
   "metadata": {
    "id": "1p1H-9cSdOtw",
    "outputId": "b56fa51c-bf52-4a02-a332-4a0264cecd2c"
   },
   "outputs": [],
   "source": [
    "share_energy_df = pd.read_csv('CSVS\\\\01 renewable-share-energy.csv')\n",
    "consumption_df = pd.read_csv('CSVS\\\\02 modern-renewable-energy-consumption.csv')\n",
    "production_df = pd.read_csv('CSVS\\\\03 modern-renewable-prod.csv')\n",
    "solar_cap_df = pd.read_csv('CSVS\\\\13 installed-solar-PV-capacity.csv')"
   ]
  },
  {
   "cell_type": "code",
   "execution_count": 4127,
   "metadata": {
    "id": "XKHC1t4SdOty",
    "outputId": "d18fd00c-3ccd-40e1-e9fb-eca89e181233"
   },
   "outputs": [],
   "source": [
    "merged_df = production_df.merge(consumption_df , on = ['Entity', 'Year', 'Code'], how='outer')\n",
    "merged_df = merged_df.merge(share_energy_df , on = ['Entity', 'Year', 'Code'], how='outer')\n",
    "merged_df = merged_df.merge(solar_cap_df, on = ['Entity', 'Year', 'Code'], how='outer')"
   ]
  },
  {
   "cell_type": "code",
   "execution_count": 4128,
   "metadata": {
    "id": "8sa2vV01rA-d"
   },
   "outputs": [],
   "source": [
    "# Normalización de los datos y creación de las tablas"
   ]
  },
  {
   "cell_type": "code",
   "execution_count": 4129,
   "metadata": {
    "id": "-MLJykUBdOtz"
   },
   "outputs": [],
   "source": [
    "# Crear la tabla de países/regiones sin duplicados\n",
    "countries_df = merged_df[['Entity', 'Code']].drop_duplicates().reset_index(drop=True)\n",
    "countries_df['country_id'] = countries_df.index + 1\n",
    "countries_df = countries_df[['country_id', 'Entity', 'Code']]"
   ]
  },
  {
   "cell_type": "code",
   "execution_count": 4130,
   "metadata": {
    "id": "dXyQauYArL0q"
   },
   "outputs": [
    {
     "name": "stdout",
     "output_type": "stream",
     "text": [
      "['Africa' 'Africa (BP)' 'Africa (Ember)' 'American Samoa' 'Aruba' 'Asia'\n",
      " 'Asia (Ember)' 'Asia Pacific (BP)' 'Bermuda' 'British Virgin Islands'\n",
      " 'Burkina Faso' 'CIS (BP)' 'Cayman Islands' 'Central America (BP)'\n",
      " 'Cook Islands' \"Cote d'Ivoire\" 'Eastern Africa (BP)' 'Eswatini' 'Europe'\n",
      " 'Europe (BP)' 'Europe (Ember)' 'European Union (27)'\n",
      " 'European Union (27) (Ember)' 'Faeroe Islands' 'Falkland Islands'\n",
      " 'French Guiana' 'French Polynesia' 'G20 (Ember)' 'G7 (Ember)' 'Gibraltar'\n",
      " 'Greenland' 'Guadeloupe' 'Guam' 'High-income countries' 'Kosovo'\n",
      " 'Latin America and Caribbean (Ember)' 'Low-income countries'\n",
      " 'Lower-middle-income countries' 'Macao' 'Martinique' 'Middle Africa (BP)'\n",
      " 'Middle East (BP)' 'Montserrat' 'Myanmar' 'New Caledonia' 'Niue'\n",
      " 'Non-OECD (BP)' 'North America' 'North America (BP)'\n",
      " 'North America (Ember)' 'North Macedonia' 'OECD (BP)' 'OECD (Ember)'\n",
      " 'Oceania' 'Oceania (Ember)' 'Palestine' 'Puerto Rico' 'Reunion'\n",
      " 'Saint Helena' 'Saint Pierre and Miquelon' 'South America'\n",
      " 'South and Central America (BP)' 'Timor' 'Turks and Caicos Islands'\n",
      " 'USSR' 'United States Virgin Islands' 'Upper-middle-income countries'\n",
      " 'Western Africa (BP)' 'Western Sahara' 'World']\n"
     ]
    }
   ],
   "source": [
    "# Crear el DataFrame de continentes utilizando diccionario por registro\n",
    "data_continentes = [\n",
    "    {'Continent': 'Africa', 'continent_id': 1},\n",
    "    {'Continent': 'North America', 'continent_id': 2},\n",
    "    {'Continent': 'South America', 'continent_id': 3},\n",
    "    {'Continent': 'Oceania', 'continent_id': 4},\n",
    "    {'Continent': 'Europe', 'continent_id': 5},\n",
    "    {'Continent': 'Asia', 'continent_id': 6},\n",
    "    {'Continent': 'Regions', 'continent_id': 7},\n",
    "    {'Continent': 'Other', 'continent_id': 8}\n",
    "]\n",
    "\n",
    "# Crear el DataFrame\n",
    "continentes_df = pd.DataFrame(data_continentes)\n",
    "continentes_df = continentes_df[['continent_id', 'Continent']]\n",
    "\n",
    "# Usamos un csv con los países y su respectivo continente\n",
    "continentes_paises_df = pd.read_csv('CSVS\\\\18 Countries by continents.csv')\n",
    "continentes_paises_df = continentes_paises_df.rename(columns={'Country':'Entity'})\n",
    "\n",
    "# Asignar el continente al país usando el csv\n",
    "countries_df = countries_df.merge(continentes_paises_df, on='Entity', how='left')\n",
    "print(countries_df[countries_df['Continent'].isna()]['Entity'].unique())\n",
    "\n",
    "# Confirmamos los países africanos 54/54 + ['Reunion', 'Saint Helena', 'Western Sahara']\n",
    "africa_countries = [\n",
    "    \"Algeria\", \"Angola\", \"Benin\", \"Botswana\", \"Burkina Faso\", \"Burundi\", \"Cabo Verde\", \"Cameroon\",\n",
    "    \"Central African Republic\", \"Chad\", \"Comoros\", \"Democratic Republic of the Congo\", \"Cote d'Ivoire\",\n",
    "    \"Djibouti\", \"Egypt\", \"Eritrea\", \"Eswatini\", \"Ethiopia\", \"Gabon\", \"Gambia\", \"Ghana\", \"Guinea\",\n",
    "    \"Guinea-Bissau\", \"Equatorial Guinea\", \"Kenya\", \"Lesotho\", \"Liberia\", \"Libya\", \"Madagascar\", \"Malawi\",\n",
    "    \"Mali\", \"Mauritania\", \"Mauritius\", \"Morocco\", \"Mozambique\", \"Namibia\", \"Niger\", \"Nigeria\",\n",
    "    \"Republic of the Congo\", \"Rwanda\", \"São Tomé and Príncipe\", \"Senegal\", \"Seychelles\", \"Sierra Leone\",\n",
    "    \"Somalia\", \"South Africa\", \"South Sudan\", \"Sudan\", \"Tanzania\", \"Togo\", \"Tunisia\", \"Uganda\", \"Zambia\",\n",
    "    \"Zimbabwe\", \"Reunion\", \"Saint Helena\", \"Western Sahara\"\n",
    "]\n",
    "countries_df.loc[countries_df['Entity'].isin(africa_countries), 'Continent'] = 'Africa'\n",
    "\n",
    "# Confirmamos los países 45/49 + [\"Faeroe Islands\", \"Gibraltar\", \"USSR\"] 47/49\n",
    "europe_countries = [\n",
    "    \"Albania\", \"Andorra\", \"Austria\", \"Belarus\", \"Belgium\", \"Bosnia and Herzegovina\", \"Bulgaria\", \n",
    "    \"Croatia\", \"Cyprus\", \"Czech Republic\", \"Denmark\", \"Estonia\", \"Finland\", \"France\", \"Germany\", \n",
    "    \"Greece\", \"Hungary\", \"Iceland\", \"Ireland\", \"Italy\", \"Kosovo\", \"Latvia\", \"Liechtenstein\", \"Lithuania\", \n",
    "    \"Luxembourg\", \"Malta\", \"Moldova\", \"Monaco\", \"Montenegro\", \"Netherlands\", \"North Macedonia\", \"Norway\", \n",
    "    \"Poland\", \"Portugal\", \"Romania\", \"Russia\", \"San Marino\", \"Serbia\", \"Slovakia\", \"Slovenia\", \"Spain\", \n",
    "    \"Sweden\", \"Switzerland\", \"Ukraine\", \"United Kingdom\", \"Vatican City\", \"Armenia\", \"Azerbaijan\", \n",
    "    \"Georgia\", \"Turkey\", \"Faeroe Islands\", \"Gibraltar\", \"USSR\"\n",
    "]\n",
    "countries_df.loc[countries_df['Entity'].isin(europe_countries), 'Continent'] = 'Europe'\n",
    "\n",
    "# Confirmamos los países de Oceania 10/14 + [\"American Samoa\",\"Cook Islands\",\"Guam\",\"New Caledonia\",\"Niue\",\"French Polynesia\"] 16/14\n",
    "oceania_countries = [\n",
    "    \"Australia\", \"Fiji\", \"Kiribati\", \"Marshall Islands\", \"Micronesia\", \"Nauru\", \"New Zealand\",\n",
    "    \"Palau\", \"Papua New Guinea\", \"Samoa\", \"Solomon Islands\", \"Tonga\", \"Tuvalu\", \"Vanuatu\", \"American Samoa\", \"Cook Islands\", \"Guam\", \"New Caledonia\", \"Niue\", \"French Polynesia\"\n",
    "]\n",
    "countries_df.loc[countries_df['Entity'].isin(oceania_countries), 'Continent'] = 'Oceania' #Falta palau, tuvalu, Marshall islands y micronesia\n",
    "\n",
    "# Confirmamos los países de Asia 49/49 + [\"Macao\", \"Timor\"] 51/49\n",
    "asia_countries = [\n",
    "    \"Afghanistan\", \"Armenia\", \"Azerbaijan\", \"Bahrain\", \"Bangladesh\", \"Bhutan\", \"Brunei\", \"Cambodia\", \n",
    "    \"China\", \"Cyprus\", \"Georgia\", \"India\", \"Indonesia\", \"Iran\", \"Iraq\", \"Israel\", \"Japan\", \"Jordan\", \n",
    "    \"Kazakhstan\", \"Kuwait\", \"Kyrgyzstan\", \"Laos\", \"Lebanon\", \"Malaysia\", \"Maldives\", \"Mongolia\", \n",
    "    \"Myanmar\", \"Nepal\", \"North Korea\", \"Oman\", \"Pakistan\", \"Palestine\", \"Philippines\", \"Qatar\", \n",
    "    \"Saudi Arabia\", \"Singapore\", \"South Korea\", \"Sri Lanka\", \"Syria\", \"Tajikistan\", \"Thailand\", \n",
    "    \"Timor-Leste\", \"Turkey\", \"Turkmenistan\", \"United Arab Emirates\", \"Uzbekistan\", \"Vietnam\", \"Yemen\", \"Macao\", \"Timor\"\n",
    "]\n",
    "countries_df.loc[countries_df['Entity'].isin(asia_countries), 'Continent'] = 'Asia'\n",
    "\n",
    "# Confirmamos los países que hacen parte de North America + [\"Bermuda\", \"Greenland\", 'Saint Pierre and Miquelon'] (26)\n",
    "north_america_countries = [\"Bermuda\", \"Greenland\", \"Saint Pierre and Miquelon\"]\n",
    "countries_df.loc[countries_df['Entity'].isin(north_america_countries), \"Continent\"] = \"North America\"\n",
    "\n",
    "# Confirmamos los países que hacen parte de South America (Incluyendo islas del caribe)\n",
    "south_america_countries = [\"Aruba\",\"British Virgin Islands\",\"Cayman Islands\",\"Guadeloupe\",\"Martinique\",\"Montserrat\",\"Puerto Rico\",\"Turks and Caicos Islands\",\"United States Virgin Islands\",\"Falkland Islands\", \"French Guiana\"]\n",
    "countries_df.loc[countries_df['Entity'].isin(south_america_countries), \"Continent\"] = \"South America\"\n",
    "\n",
    "# Other categories\n",
    "other_categories = [\"CIS (BP)\", \"G20 (Ember)\", \"G7 (Ember)\", \"High-income countries\", \"Low-income countries\", \"Lower-middle-income countries\", \"Non-OECD (BP)\", \"OECD (BP)\", \"OECD (Ember)\", \"Upper-middle-income countries\", \"World\"]\n",
    "countries_df.loc[countries_df['Entity'].isin(other_categories), 'Continent'] = 'Other'\n",
    "\n",
    "# Regions\n",
    "regions = [\n",
    "    \"Africa\", \"Africa (BP)\", \"Africa (Ember)\", \"Asia\", \"Asia (Ember)\",\n",
    "    \"Asia Pacific (BP)\", \"Central America (BP)\", \"Eastern Africa (BP)\", \"Europe\",\n",
    "    \"Europe (BP)\", \"Europe (Ember)\", \"European Union (27)\",\n",
    "    \"European Union (27) (Ember)\", \"Latin America and Caribbean (Ember)\",\n",
    "    \"Middle Africa (BP)\", \"Middle East (BP)\", \"North America\",\n",
    "    \"North America (BP)\", \"North America (Ember)\", \"Oceania\", \"Oceania (Ember)\",\n",
    "    \"South America\", \"South and Central America (BP)\", \"Western Africa (BP)\"\n",
    "]\n",
    "countries_df.loc[countries_df['Entity'].isin(regions), 'Continent'] = 'Regions'"
   ]
  },
  {
   "cell_type": "code",
   "execution_count": 4131,
   "metadata": {},
   "outputs": [],
   "source": [
    "# Crear una nueva columna 'id_continente' y asignar el continente\n",
    "countries_df = countries_df.merge(continentes_df, on = 'Continent', how = 'left')\n",
    "countries_df = countries_df.drop(columns='Continent')\n",
    "countries_df = countries_df.reset_index(drop=True)"
   ]
  },
  {
   "cell_type": "code",
   "execution_count": 4132,
   "metadata": {
    "id": "e_4Y1on8rJtz"
   },
   "outputs": [],
   "source": [
    "# Crear la tabla de años sin duplicados\n",
    "years_df = merged_df[['Year']].drop_duplicates().reset_index(drop = True).sort_values('Year')\n",
    "years_df.insert(0, 'year_id', range(1, len(years_df) + 1))"
   ]
  },
  {
   "cell_type": "code",
   "execution_count": 4133,
   "metadata": {
    "id": "4Z_m6NPd3z3c"
   },
   "outputs": [],
   "source": [
    "# Datos comunes y preparación del values_df\n",
    "foreign_keys = ['country_id', 'year_id']"
   ]
  },
  {
   "cell_type": "code",
   "execution_count": 4134,
   "metadata": {
    "id": "gbGaOoVE24N7"
   },
   "outputs": [],
   "source": [
    "# Crear la tabla de consumo conservando las llaves foráneas\n",
    "consumption_merged_df = consumption_df.merge(countries_df, on=['Entity', 'Code'], how='left')\n",
    "consumption_merged_df = consumption_merged_df.merge(years_df, on='Year', how='left')\n",
    "\n",
    "consumption_merged_df['Year'] = consumption_merged_df['Year'].astype(int) #Convierte columna Year a int  \n",
    "consumption_merged_df['country_id'] = consumption_merged_df['country_id'].astype(int) #Convierte columna Country_id a int  \n",
    "\n",
    "consumption_merged_df[['Geo Biomass Other - TWh', 'Solar Generation - TWh', 'Wind Generation - TWh', 'Hydro Generation - TWh']] = consumption_merged_df[['Geo Biomass Other - TWh', 'Solar Generation - TWh', 'Wind Generation - TWh', 'Hydro Generation - TWh']].fillna(0)\n",
    "\n",
    "consumption_merged_df = consumption_merged_df[['Geo Biomass Other - TWh', 'Solar Generation - TWh', 'Wind Generation - TWh', 'Hydro Generation - TWh'] + foreign_keys]\n",
    "\n",
    "consumption_merged_df.index += 1"
   ]
  },
  {
   "cell_type": "code",
   "execution_count": 4135,
   "metadata": {},
   "outputs": [
    {
     "data": {
      "text/plain": [
       "\" # Sumar la generación hidroeléctrica de todos los países asíaticos y europeos en ['Geo Biomass Other - TWh', 'Solar Generation - TWh', 'Wind Generation - TWh', 'Hydro Generation - TWh'] (Casi perfecto en Geo, Solar y Wind falla en Hydro por 10 unidades hasta el 75 de ahí en adelante aumenta hasta llegar 2021 con una diferencia de casi 100)\\nhola = consumption_merged_df[consumption_merged_df['continent_id'] == 6]\\nhola_comp = consumption_merged_df[consumption_merged_df['Entity'] == 'Asia']\\n\\n# Sumar la generación hidroeléctrica de todos los países asiáticos y europeos por año\\nsuma_hydro = hola.groupby('Year')[['Geo Biomass Other - TWh', 'Solar Generation - TWh', 'Wind Generation - TWh', 'Hydro Generation - TWh']].sum()\\n\\n# Obtener los valores individuales de generación hidroeléctrica de cada país\\nhydro_paises = hola_comp[['Year', 'Entity', 'Geo Biomass Other - TWh', 'Solar Generation - TWh', 'Wind Generation - TWh', 'Hydro Generation - TWh']]\\n\\n# Crear un DataFrame comparativo\\ncomparacion_df = hydro_paises.merge(suma_hydro, on='Year', suffixes=('_Pais', '_Suma'))\\n\\n# Agregar una columna de diferencia\\ncomparacion_df['Diferencia_Hydro'] = comparacion_df['Hydro Generation - TWh_Pais'] - comparacion_df['Hydro Generation - TWh_Suma']\\ncomparacion_df['Diferencia_Bio'] = comparacion_df['Geo Biomass Other - TWh_Pais'] -  comparacion_df['Geo Biomass Other - TWh_Suma']\\ncomparacion_df['Diferencia_Solar'] = comparacion_df['Solar Generation - TWh_Pais'] - comparacion_df['Solar Generation - TWh_Suma']\\ncomparacion_df['Diferencia_Wind'] =  comparacion_df['Wind Generation - TWh_Pais'] - comparacion_df['Wind Generation - TWh_Suma']\\n\\n# Mostrar el DataFrame\\ncomparacion_df[['Diferencia_Hydro', 'Diferencia_Bio', 'Diferencia_Solar', 'Diferencia_Wind']].abs().max() \""
      ]
     },
     "execution_count": 4135,
     "metadata": {},
     "output_type": "execute_result"
    }
   ],
   "source": [
    "\"\"\" ########################################################################################################################################################### PRUEBA CONSUMO ######################################################################################################################\"\"\"\n",
    "\n",
    "\"\"\" # Sumar la generación hidroeléctrica de todos los países asíaticos y europeos en ['Geo Biomass Other - TWh', 'Solar Generation - TWh', 'Wind Generation - TWh', 'Hydro Generation - TWh'] (Casi perfecto en Geo, Solar y Wind falla en Hydro por 10 unidades hasta el 75 de ahí en adelante aumenta hasta llegar 2021 con una diferencia de casi 100)\n",
    "hola = consumption_merged_df[consumption_merged_df['continent_id'] == 6]\n",
    "hola_comp = consumption_merged_df[consumption_merged_df['Entity'] == 'Asia']\n",
    " \n",
    "# Sumar la generación hidroeléctrica de todos los países asiáticos y europeos por año\n",
    "suma_hydro = hola.groupby('Year')[['Geo Biomass Other - TWh', 'Solar Generation - TWh', 'Wind Generation - TWh', 'Hydro Generation - TWh']].sum()\n",
    "\n",
    "# Obtener los valores individuales de generación hidroeléctrica de cada país\n",
    "hydro_paises = hola_comp[['Year', 'Entity', 'Geo Biomass Other - TWh', 'Solar Generation - TWh', 'Wind Generation - TWh', 'Hydro Generation - TWh']]\n",
    "\n",
    "# Crear un DataFrame comparativo\n",
    "comparacion_df = hydro_paises.merge(suma_hydro, on='Year', suffixes=('_Pais', '_Suma'))\n",
    "\n",
    "# Agregar una columna de diferencia\n",
    "comparacion_df['Diferencia_Hydro'] = comparacion_df['Hydro Generation - TWh_Pais'] - comparacion_df['Hydro Generation - TWh_Suma']\n",
    "comparacion_df['Diferencia_Bio'] = comparacion_df['Geo Biomass Other - TWh_Pais'] -  comparacion_df['Geo Biomass Other - TWh_Suma']\n",
    "comparacion_df['Diferencia_Solar'] = comparacion_df['Solar Generation - TWh_Pais'] - comparacion_df['Solar Generation - TWh_Suma']\n",
    "comparacion_df['Diferencia_Wind'] =  comparacion_df['Wind Generation - TWh_Pais'] - comparacion_df['Wind Generation - TWh_Suma']\n",
    "\n",
    "# Mostrar el DataFrame\n",
    "comparacion_df[['Diferencia_Hydro', 'Diferencia_Bio', 'Diferencia_Solar', 'Diferencia_Wind']].abs().max() \"\"\""
   ]
  },
  {
   "cell_type": "code",
   "execution_count": 4136,
   "metadata": {
    "id": "AxppB6_T2__r"
   },
   "outputs": [],
   "source": [
    "# Crear la tabla de producción conservando las llaves foráneas\n",
    "production_merged_df = production_df.merge(countries_df, on=['Entity', 'Code'], how='left')\n",
    "production_merged_df = production_merged_df.merge(years_df, on='Year', how='left')\n",
    "\n",
    "production_merged_df['Year'] = production_merged_df['Year'].astype(int) #Convierte columna Year a int  \n",
    "production_merged_df['country_id'] = production_merged_df['country_id'].astype(int) #Convierte columna Country_id a int  \n",
    "\n",
    "production_merged_df[['Electricity from wind (TWh)', 'Electricity from hydro (TWh)', 'Electricity from solar (TWh)', 'Other renewables including bioenergy (TWh)']] = production_merged_df[['Electricity from wind (TWh)', 'Electricity from hydro (TWh)', 'Electricity from solar (TWh)', 'Other renewables including bioenergy (TWh)']].fillna(0)\n",
    "\n",
    "production_merged_df = production_merged_df[['Electricity from wind (TWh)', 'Electricity from hydro (TWh)', 'Electricity from solar (TWh)', 'Other renewables including bioenergy (TWh)'] + foreign_keys]\n",
    "\n",
    "production_merged_df.index += 1"
   ]
  },
  {
   "cell_type": "code",
   "execution_count": 4137,
   "metadata": {},
   "outputs": [
    {
     "data": {
      "text/plain": [
       "\" # Sumar la generación hidroeléctrica de todos los países asíaticos y europeos en ['Electricity from wind (TWh)', 'Electricity from hydro (TWh)', 'Electricity from solar (TWh)', 'Other renewables including bioenergy (TWh)'] (Casi perfecto en Geo, Solar y Wind falla en Hydro por 10 unidades hasta el 75 de ahí en adelante aumenta hasta llegar 2021 con una diferencia de casi 100)\\nhola = production_merged_df[production_merged_df['continent_id'] == 6]\\nhola_comp = production_merged_df[production_merged_df['Entity'] == 'Asia']\\n\\n# Sumar la generación hidroeléctrica de todos los países asiáticos y europeos por año\\nsuma_hydro = hola.groupby('Year')[['Electricity from wind (TWh)', 'Electricity from hydro (TWh)', 'Electricity from solar (TWh)', 'Other renewables including bioenergy (TWh)']].sum()\\n\\n# Obtener los valores individuales de generación hidroeléctrica de cada país\\nhydro_paises = hola_comp[['Year', 'Entity', 'Electricity from wind (TWh)', 'Electricity from hydro (TWh)', 'Electricity from solar (TWh)', 'Other renewables including bioenergy (TWh)']]\\n\\n# Crear un DataFrame comparativo\\ncomparacion_df = hydro_paises.merge(suma_hydro, on='Year', suffixes=('_Pais', '_Suma'))\\n\\n# Agregar una columna de diferencia\\ncomparacion_df['Diferencia_Hydro'] = comparacion_df['Electricity from hydro (TWh)_Pais'] - comparacion_df['Electricity from hydro (TWh)_Suma']\\ncomparacion_df['Diferencia_Bio'] = comparacion_df['Other renewables including bioenergy (TWh)_Pais'] -  comparacion_df['Other renewables including bioenergy (TWh)_Suma']\\ncomparacion_df['Diferencia_Solar'] = comparacion_df['Electricity from solar (TWh)_Pais'] - comparacion_df['Electricity from solar (TWh)_Suma']\\ncomparacion_df['Diferencia_Wind'] =  comparacion_df['Electricity from wind (TWh)_Pais'] - comparacion_df['Electricity from wind (TWh)_Suma']\\n\\n# Mostrar el DataFrame\\ncomparacion_df[['Diferencia_Hydro', 'Diferencia_Bio', 'Diferencia_Solar', 'Diferencia_Wind']].abs().max() \""
      ]
     },
     "execution_count": 4137,
     "metadata": {},
     "output_type": "execute_result"
    }
   ],
   "source": [
    "\"\"\" ########################################################################################################################################################### PRUEBA PRODUCCIÓN ######################################################################################################################\"\"\"\n",
    "\n",
    "\"\"\" # Sumar la generación hidroeléctrica de todos los países asíaticos y europeos en ['Electricity from wind (TWh)', 'Electricity from hydro (TWh)', 'Electricity from solar (TWh)', 'Other renewables including bioenergy (TWh)'] (Casi perfecto en Geo, Solar y Wind falla en Hydro por 10 unidades hasta el 75 de ahí en adelante aumenta hasta llegar 2021 con una diferencia de casi 100)\n",
    "hola = production_merged_df[production_merged_df['continent_id'] == 6]\n",
    "hola_comp = production_merged_df[production_merged_df['Entity'] == 'Asia']\n",
    " \n",
    "# Sumar la generación hidroeléctrica de todos los países asiáticos y europeos por año\n",
    "suma_hydro = hola.groupby('Year')[['Electricity from wind (TWh)', 'Electricity from hydro (TWh)', 'Electricity from solar (TWh)', 'Other renewables including bioenergy (TWh)']].sum()\n",
    "\n",
    "# Obtener los valores individuales de generación hidroeléctrica de cada país\n",
    "hydro_paises = hola_comp[['Year', 'Entity', 'Electricity from wind (TWh)', 'Electricity from hydro (TWh)', 'Electricity from solar (TWh)', 'Other renewables including bioenergy (TWh)']]\n",
    "\n",
    "# Crear un DataFrame comparativo\n",
    "comparacion_df = hydro_paises.merge(suma_hydro, on='Year', suffixes=('_Pais', '_Suma'))\n",
    "\n",
    "# Agregar una columna de diferencia\n",
    "comparacion_df['Diferencia_Hydro'] = comparacion_df['Electricity from hydro (TWh)_Pais'] - comparacion_df['Electricity from hydro (TWh)_Suma']\n",
    "comparacion_df['Diferencia_Bio'] = comparacion_df['Other renewables including bioenergy (TWh)_Pais'] -  comparacion_df['Other renewables including bioenergy (TWh)_Suma']\n",
    "comparacion_df['Diferencia_Solar'] = comparacion_df['Electricity from solar (TWh)_Pais'] - comparacion_df['Electricity from solar (TWh)_Suma']\n",
    "comparacion_df['Diferencia_Wind'] =  comparacion_df['Electricity from wind (TWh)_Pais'] - comparacion_df['Electricity from wind (TWh)_Suma']\n",
    "\n",
    "# Mostrar el DataFrame\n",
    "comparacion_df[['Diferencia_Hydro', 'Diferencia_Bio', 'Diferencia_Solar', 'Diferencia_Wind']].abs().max() \"\"\""
   ]
  },
  {
   "cell_type": "code",
   "execution_count": 4138,
   "metadata": {
    "id": "pL_L-upG3AiE"
   },
   "outputs": [],
   "source": [
    "# Crear la tabla de porcentaje de energía renovable respecto al total conservando las llaves foráneas\n",
    "renewable_percent_merged_df = share_energy_df.merge(countries_df, on=['Entity', 'Code'], how='left')\n",
    "renewable_percent_merged_df = renewable_percent_merged_df.merge(years_df, on='Year', how='left')\n",
    "\n",
    "renewable_percent_merged_df['Year'] = renewable_percent_merged_df['Year'].astype(int) #Convierte columna Year a int  \n",
    "renewable_percent_merged_df['country_id'] = renewable_percent_merged_df['country_id'].astype(int) #Convierte columna Country_id a int  \n",
    "\n",
    "renewable_percent_merged_df[['Renewables (% equivalent primary energy)']] = renewable_percent_merged_df[['Renewables (% equivalent primary energy)']].fillna(0)\n",
    "\n",
    "renewable_percent_merged_df = renewable_percent_merged_df[['Renewables (% equivalent primary energy)'] + foreign_keys]\n",
    "renewable_percent_merged_df.index += 1"
   ]
  },
  {
   "cell_type": "code",
   "execution_count": 4139,
   "metadata": {},
   "outputs": [
    {
     "data": {
      "text/plain": [
       "\" # Sumar la generación hidroeléctrica de todos los países asíaticos y europeos en ['Geo Biomass Other - TWh', 'Solar Generation - TWh', 'Wind Generation - TWh', 'Hydro Generation - TWh'] (Casi perfecto en Geo, Solar y Wind falla en Hydro por 10 unidades hasta el 75 de ahí en adelante aumenta hasta llegar 2021 con una diferencia de casi 100)\\nhola = renewable_percent_merged_df[renewable_percent_merged_df['continent_id'] == 4]\\nhola_comp = renewable_percent_merged_df[renewable_percent_merged_df['Entity'] == 'Oceania']\\n\\n# Sumar la generación hidroeléctrica de todos los países asiáticos y europeos por año\\nsuma_hydro = hola.groupby('Year')[['Renewables (% equivalent primary energy)']].mean()\\n\\n# Obtener los valores individuales de generación hidroeléctrica de cada país\\nhydro_paises = hola_comp[['Year', 'Entity', 'Renewables (% equivalent primary energy)']]\\n\\n# Crear un DataFrame comparativo\\ncomparacion_df = hydro_paises.merge(suma_hydro, on='Year', suffixes=('_continent', '_Suma'))\\n\\n# Agregar una columna de diferencia\\ncomparacion_df['Diferencia_Percent'] = comparacion_df['Renewables (% equivalent primary energy)_continent'] - comparacion_df['Renewables (% equivalent primary energy)_Suma']\\n\\n# Mostrar el DataFrame\\ncomparacion_df['Diferencia_Percent'].abs().max() \""
      ]
     },
     "execution_count": 4139,
     "metadata": {},
     "output_type": "execute_result"
    }
   ],
   "source": [
    "\"\"\" ########################################################################################################################################################### PRUEBA PORCENTAJE RENOVABLE ######################################################################################################################\"\"\"\n",
    "\n",
    "\"\"\" # Sumar la generación hidroeléctrica de todos los países asíaticos y europeos en ['Geo Biomass Other - TWh', 'Solar Generation - TWh', 'Wind Generation - TWh', 'Hydro Generation - TWh'] (Casi perfecto en Geo, Solar y Wind falla en Hydro por 10 unidades hasta el 75 de ahí en adelante aumenta hasta llegar 2021 con una diferencia de casi 100)\n",
    "hola = renewable_percent_merged_df[renewable_percent_merged_df['continent_id'] == 4]\n",
    "hola_comp = renewable_percent_merged_df[renewable_percent_merged_df['Entity'] == 'Oceania']\n",
    " \n",
    "# Sumar la generación hidroeléctrica de todos los países asiáticos y europeos por año\n",
    "suma_hydro = hola.groupby('Year')[['Renewables (% equivalent primary energy)']].mean()\n",
    "\n",
    "# Obtener los valores individuales de generación hidroeléctrica de cada país\n",
    "hydro_paises = hola_comp[['Year', 'Entity', 'Renewables (% equivalent primary energy)']]\n",
    "\n",
    "# Crear un DataFrame comparativo\n",
    "comparacion_df = hydro_paises.merge(suma_hydro, on='Year', suffixes=('_continent', '_Suma'))\n",
    "\n",
    "# Agregar una columna de diferencia\n",
    "comparacion_df['Diferencia_Percent'] = comparacion_df['Renewables (% equivalent primary energy)_continent'] - comparacion_df['Renewables (% equivalent primary energy)_Suma']\n",
    "\n",
    "# Mostrar el DataFrame\n",
    "comparacion_df['Diferencia_Percent'].abs().max() \"\"\""
   ]
  },
  {
   "cell_type": "code",
   "execution_count": 4140,
   "metadata": {
    "id": "I4kbhiI83A-X"
   },
   "outputs": [
    {
     "data": {
      "text/plain": [
       "\" solar_capacity_merged_df = solar_capacity_merged_df[['Solar Capacity'] + foreign_keys]\\nsolar_capacity_merged_df.index += 1 \""
      ]
     },
     "execution_count": 4140,
     "metadata": {},
     "output_type": "execute_result"
    }
   ],
   "source": [
    "# Crear la tabla de capacidad de energía solar conservando las llaves foráneas\n",
    "solar_capacity_merged_df = solar_cap_df.merge(countries_df, on=['Entity', 'Code'], how='left')\n",
    "solar_capacity_merged_df = solar_capacity_merged_df.merge(years_df, on='Year', how='left')\n",
    "\n",
    "solar_capacity_merged_df['Year'] = solar_capacity_merged_df['Year'].astype(int) #Convierte columna Year a int  \n",
    "solar_capacity_merged_df['country_id'] = solar_capacity_merged_df['country_id'].astype(int) #Convierte columna Country_id a int  \n",
    "\n",
    "solar_capacity_merged_df[['Solar Capacity']] = solar_capacity_merged_df[['Solar Capacity']].fillna(0)\n",
    "\n",
    "\"\"\" solar_capacity_merged_df = solar_capacity_merged_df[['Solar Capacity'] + foreign_keys]\n",
    "solar_capacity_merged_df.index += 1 \"\"\""
   ]
  },
  {
   "cell_type": "code",
   "execution_count": 4141,
   "metadata": {},
   "outputs": [
    {
     "data": {
      "text/plain": [
       "\" # Sumar la generación hidroeléctrica de todos los países asíaticos y europeos en ['Geo Biomass Other - TWh', 'Solar Generation - TWh', 'Wind Generation - TWh', 'Hydro Generation - TWh'] (Casi perfecto en Geo, Solar y Wind falla en Hydro por 10 unidades hasta el 75 de ahí en adelante aumenta hasta llegar 2021 con una diferencia de casi 100)\\nhola = solar_capacity_merged_df[solar_capacity_merged_df['continent_id'] == 6]\\nhola_comp = solar_capacity_merged_df[solar_capacity_merged_df['Entity'] == 'Asia']\\n\\n# Sumar la generación hidroeléctrica de todos los países asiáticos y europeos por año\\nsuma_hydro = hola.groupby('Year')[['Solar Capacity']].sum()\\n\\n# Obtener los valores individuales de generación hidroeléctrica de cada país\\nhydro_paises = hola_comp[['Year', 'Entity', 'Solar Capacity']]\\n\\n# Crear un DataFrame comparativo\\ncomparacion_df = hydro_paises.merge(suma_hydro, on='Year', suffixes=('_continent', '_Suma'))\\n\\n# Agregar una columna de diferencia\\ncomparacion_df['Diferencia_Percent'] = comparacion_df['Solar Capacity_continent'] - comparacion_df['Solar Capacity_Suma']\\n\\n# Mostrar el DataFrame\\ncomparacion_df['Diferencia_Percent'].abs().max() \""
      ]
     },
     "execution_count": 4141,
     "metadata": {},
     "output_type": "execute_result"
    }
   ],
   "source": [
    "\"\"\" ########################################################################################################################################################### PRUEBA PORCENTAJE CAPACIDAD SOLAR\n",
    "###################################################################################################################### \"\"\"\n",
    "\n",
    "\"\"\" # Sumar la generación hidroeléctrica de todos los países asíaticos y europeos en ['Geo Biomass Other - TWh', 'Solar Generation - TWh', 'Wind Generation - TWh', 'Hydro Generation - TWh'] (Casi perfecto en Geo, Solar y Wind falla en Hydro por 10 unidades hasta el 75 de ahí en adelante aumenta hasta llegar 2021 con una diferencia de casi 100)\n",
    "hola = solar_capacity_merged_df[solar_capacity_merged_df['continent_id'] == 6]\n",
    "hola_comp = solar_capacity_merged_df[solar_capacity_merged_df['Entity'] == 'Asia']\n",
    " \n",
    "# Sumar la generación hidroeléctrica de todos los países asiáticos y europeos por año\n",
    "suma_hydro = hola.groupby('Year')[['Solar Capacity']].sum()\n",
    "\n",
    "# Obtener los valores individuales de generación hidroeléctrica de cada país\n",
    "hydro_paises = hola_comp[['Year', 'Entity', 'Solar Capacity']]\n",
    "\n",
    "# Crear un DataFrame comparativo\n",
    "comparacion_df = hydro_paises.merge(suma_hydro, on='Year', suffixes=('_continent', '_Suma'))\n",
    "\n",
    "# Agregar una columna de diferencia\n",
    "comparacion_df['Diferencia_Percent'] = comparacion_df['Solar Capacity_continent'] - comparacion_df['Solar Capacity_Suma']\n",
    "\n",
    "# Mostrar el DataFrame\n",
    "comparacion_df['Diferencia_Percent'].abs().max() \"\"\""
   ]
  },
  {
   "cell_type": "code",
   "execution_count": 4142,
   "metadata": {
    "id": "42tq7bb6rQQi"
   },
   "outputs": [],
   "source": [
    "# Exportar los CSVs normalizados\n",
    "countries_df.to_csv('entities.csv', index=False)\n",
    "years_df.to_csv('years.csv', index=False)\n",
    "continentes_df.to_csv('regions.csv',index=False)\n",
    "consumption_merged_df.to_csv('consumption.csv')\n",
    "production_merged_df.to_csv('production.csv')\n",
    "renewable_percent_merged_df.to_csv('renewable_percent.csv')\n",
    "solar_capacity_merged_df.to_csv('solar_capacity.csv')"
   ]
  },
  {
   "cell_type": "code",
   "execution_count": 4143,
   "metadata": {
    "id": "Gk3SFibKdOt0",
    "outputId": "edba5ffb-9bfb-45c1-d749-04942a802dce"
   },
   "outputs": [
    {
     "data": {
      "text/plain": [
       "\"\\n-- 1. Tabla para regions.csv\\nCREATE TABLE regions (\\n    region_id INT PRIMARY KEY AUTO_INCREMENT,\\n    region VARCHAR(255) NOT NULL\\n);\\n\\n-- 2. Tabla para entities.csv\\nCREATE TABLE entities (\\n    entity_id INT PRIMARY KEY AUTO_INCREMENT,\\n    entity VARCHAR(255) NOT NULL,\\n    code VARCHAR(10),\\n    region_id INT,\\n    FOREIGN KEY (region_id) REFERENCES regions(region_id) ON DELETE SET NULL ON UPDATE CASCADE\\n);\\n\\n-- 3. Tabla para years.csv\\nCREATE TABLE years (\\n    year_id INT PRIMARY KEY AUTO_INCREMENT,\\n    year INT NOT NULL UNIQUE\\n);\\n\\n-- 4. Tabla para renewable_energy_consumption.csv\\nCREATE TABLE renewable_energy_consumption (\\n    id INT PRIMARY KEY AUTO_INCREMENT,\\n    bioenergy_TWh FLOAT NOT NULL,\\n    solar_TWh FLOAT NOT NULL,\\n    wind_TWh FLOAT NOT NULL,\\n    hydro_TWh FLOAT NOT NULL,\\n    entity_id INT NOT NULL,\\n    year_id INT NOT NULL,\\n    FOREIGN KEY (entity_id) REFERENCES entities(entity_id) ON DELETE CASCADE ON UPDATE CASCADE,\\n    FOREIGN KEY (year_id) REFERENCES years(year_id) ON DELETE CASCADE ON UPDATE CASCADE\\n);\\n\\n-- 5. Tabla para renewable_energy_production.csv\\nCREATE TABLE renewable_energy_production (\\n    id INT PRIMARY KEY AUTO_INCREMENT,\\n    wind_TWh FLOAT NOT NULL,\\n    hydro_TWh FLOAT NOT NULL,\\n    solar_TWh FLOAT NOT NULL,\\n    bioenergy_TWh FLOAT NOT NULL,\\n    entity_id INT NOT NULL,\\n    year_id INT NOT NULL,\\n    FOREIGN KEY (entity_id) REFERENCES entities(entity_id) ON DELETE CASCADE ON UPDATE CASCADE,\\n    FOREIGN KEY (year_id) REFERENCES years(year_id) ON DELETE CASCADE ON UPDATE CASCADE\\n);\\n\\n-- 6. Tabla para renewable_percent.csv\\nCREATE TABLE renewable_percent (\\n    id INT PRIMARY KEY AUTO_INCREMENT,\\n    renewables_percent FLOAT NOT NULL,\\n    entity_id INT NOT NULL,\\n    year_id INT NOT NULL,\\n    FOREIGN KEY (entity_id) REFERENCES entities(entity_id) ON DELETE CASCADE ON UPDATE CASCADE,\\n    FOREIGN KEY (year_id) REFERENCES years(year_id) ON DELETE CASCADE ON UPDATE CASCADE\\n);\\n\\n-- 7. Tabla para solar_capacity.csv\\nCREATE TABLE solar_capacity (\\n    id INT PRIMARY KEY AUTO_INCREMENT,\\n    solar_capacity FLOAT NOT NULL,\\n    entity_id INT NOT NULL,\\n    year_id INT NOT NULL,\\n    FOREIGN KEY (entity_id) REFERENCES entities(entity_id) ON DELETE CASCADE ON UPDATE CASCADE,\\n    FOREIGN KEY (year_id) REFERENCES years(year_id) ON DELETE CASCADE ON UPDATE CASCADE\\n);\\n\\n-- Ejemplos Select's\\nSELECT * FROM entities;\\nSELECT * FROM years;\\nSELECT * FROM regions;\\nSELECT * FROM consumption;\\nSELECT * FROM production;\\nSELECT * FROM renewable_percent;\\nSELECT * FROM solar_capacity;\\n\""
      ]
     },
     "execution_count": 4143,
     "metadata": {},
     "output_type": "execute_result"
    }
   ],
   "source": [
    "\"\"\"\n",
    "-- 1. Tabla para regions.csv\n",
    "CREATE TABLE regions (\n",
    "    region_id INT PRIMARY KEY AUTO_INCREMENT,\n",
    "    region VARCHAR(255) NOT NULL\n",
    ");\n",
    "\n",
    "-- 2. Tabla para entities.csv\n",
    "CREATE TABLE entities (\n",
    "    entity_id INT PRIMARY KEY AUTO_INCREMENT,\n",
    "    entity VARCHAR(255) NOT NULL,\n",
    "    code VARCHAR(10),\n",
    "    region_id INT,\n",
    "    FOREIGN KEY (region_id) REFERENCES regions(region_id) ON DELETE SET NULL ON UPDATE CASCADE\n",
    ");\n",
    "\n",
    "-- 3. Tabla para years.csv\n",
    "CREATE TABLE years (\n",
    "    year_id INT PRIMARY KEY AUTO_INCREMENT,\n",
    "    year INT NOT NULL UNIQUE\n",
    ");\n",
    "\n",
    "-- 4. Tabla para renewable_energy_consumption.csv\n",
    "CREATE TABLE renewable_energy_consumption (\n",
    "    id INT PRIMARY KEY AUTO_INCREMENT,\n",
    "    bioenergy_TWh FLOAT NOT NULL,\n",
    "    solar_TWh FLOAT NOT NULL,\n",
    "    wind_TWh FLOAT NOT NULL,\n",
    "    hydro_TWh FLOAT NOT NULL,\n",
    "    entity_id INT NOT NULL,\n",
    "    year_id INT NOT NULL,\n",
    "    FOREIGN KEY (entity_id) REFERENCES entities(entity_id) ON DELETE CASCADE ON UPDATE CASCADE,\n",
    "    FOREIGN KEY (year_id) REFERENCES years(year_id) ON DELETE CASCADE ON UPDATE CASCADE\n",
    ");\n",
    "\n",
    "-- 5. Tabla para renewable_energy_production.csv\n",
    "CREATE TABLE renewable_energy_production (\n",
    "    id INT PRIMARY KEY AUTO_INCREMENT,\n",
    "    wind_TWh FLOAT NOT NULL,\n",
    "    hydro_TWh FLOAT NOT NULL,\n",
    "    solar_TWh FLOAT NOT NULL,\n",
    "    bioenergy_TWh FLOAT NOT NULL,\n",
    "    entity_id INT NOT NULL,\n",
    "    year_id INT NOT NULL,\n",
    "    FOREIGN KEY (entity_id) REFERENCES entities(entity_id) ON DELETE CASCADE ON UPDATE CASCADE,\n",
    "    FOREIGN KEY (year_id) REFERENCES years(year_id) ON DELETE CASCADE ON UPDATE CASCADE\n",
    ");\n",
    "\n",
    "-- 6. Tabla para renewable_percent.csv\n",
    "CREATE TABLE renewable_percent (\n",
    "    id INT PRIMARY KEY AUTO_INCREMENT,\n",
    "    renewables_percent FLOAT NOT NULL,\n",
    "    entity_id INT NOT NULL,\n",
    "    year_id INT NOT NULL,\n",
    "    FOREIGN KEY (entity_id) REFERENCES entities(entity_id) ON DELETE CASCADE ON UPDATE CASCADE,\n",
    "    FOREIGN KEY (year_id) REFERENCES years(year_id) ON DELETE CASCADE ON UPDATE CASCADE\n",
    ");\n",
    "\n",
    "-- 7. Tabla para solar_capacity.csv\n",
    "CREATE TABLE solar_capacity (\n",
    "    id INT PRIMARY KEY AUTO_INCREMENT,\n",
    "    solar_capacity FLOAT NOT NULL,\n",
    "    entity_id INT NOT NULL,\n",
    "    year_id INT NOT NULL,\n",
    "    FOREIGN KEY (entity_id) REFERENCES entities(entity_id) ON DELETE CASCADE ON UPDATE CASCADE,\n",
    "    FOREIGN KEY (year_id) REFERENCES years(year_id) ON DELETE CASCADE ON UPDATE CASCADE\n",
    ");\n",
    "\n",
    "-- Ejemplos Select's\n",
    "SELECT * FROM entities;\n",
    "SELECT * FROM years;\n",
    "SELECT * FROM regions;\n",
    "SELECT * FROM consumption;\n",
    "SELECT * FROM production;\n",
    "SELECT * FROM renewable_percent;\n",
    "SELECT * FROM solar_capacity;\n",
    "\"\"\""
   ]
  }
 ],
 "metadata": {
  "colab": {
   "provenance": []
  },
  "kernelspec": {
   "display_name": "Python 3",
   "language": "python",
   "name": "python3"
  },
  "language_info": {
   "codemirror_mode": {
    "name": "ipython",
    "version": 3
   },
   "file_extension": ".py",
   "mimetype": "text/x-python",
   "name": "python",
   "nbconvert_exporter": "python",
   "pygments_lexer": "ipython3",
   "version": "3.13.2"
  }
 },
 "nbformat": 4,
 "nbformat_minor": 0
}
