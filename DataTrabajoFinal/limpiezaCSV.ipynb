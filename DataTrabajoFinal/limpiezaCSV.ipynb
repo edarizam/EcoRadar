{
 "cells": [
  {
   "cell_type": "code",
   "execution_count": 2,
   "metadata": {
    "id": "nc4e36ssdOtt"
   },
   "outputs": [],
   "source": [
    "import pandas as pd"
   ]
  },
  {
   "cell_type": "code",
   "execution_count": 3,
   "metadata": {
    "id": "1p1H-9cSdOtw",
    "outputId": "b56fa51c-bf52-4a02-a332-4a0264cecd2c"
   },
   "outputs": [],
   "source": [
    "share_energy_df = pd.read_csv('CSVS\\\\01 renewable-share-energy.csv')\n",
    "consumption_df = pd.read_csv('CSVS\\\\02 modern-renewable-energy-consumption.csv')\n",
    "production_df = pd.read_csv('CSVS\\\\03 modern-renewable-prod.csv')\n",
    "solar_cap_df = pd.read_csv('CSVS\\\\13 installed-solar-PV-capacity.csv')"
   ]
  },
  {
   "cell_type": "code",
   "execution_count": null,
   "metadata": {
    "id": "XKHC1t4SdOty",
    "outputId": "d18fd00c-3ccd-40e1-e9fb-eca89e181233"
   },
   "outputs": [
    {
     "data": {
      "text/html": [
       "<div>\n",
       "<style scoped>\n",
       "    .dataframe tbody tr th:only-of-type {\n",
       "        vertical-align: middle;\n",
       "    }\n",
       "\n",
       "    .dataframe tbody tr th {\n",
       "        vertical-align: top;\n",
       "    }\n",
       "\n",
       "    .dataframe thead th {\n",
       "        text-align: right;\n",
       "    }\n",
       "</style>\n",
       "<table border=\"1\" class=\"dataframe\">\n",
       "  <thead>\n",
       "    <tr style=\"text-align: right;\">\n",
       "      <th></th>\n",
       "      <th>Entity</th>\n",
       "      <th>Code</th>\n",
       "      <th>Year</th>\n",
       "      <th>Electricity from wind (TWh)</th>\n",
       "      <th>Electricity from hydro (TWh)</th>\n",
       "      <th>Electricity from solar (TWh)</th>\n",
       "      <th>Other renewables including bioenergy (TWh)</th>\n",
       "      <th>Geo Biomass Other - TWh</th>\n",
       "      <th>Solar Generation - TWh</th>\n",
       "      <th>Wind Generation - TWh</th>\n",
       "      <th>Hydro Generation - TWh</th>\n",
       "      <th>Renewables (% equivalent primary energy)</th>\n",
       "      <th>Solar Capacity</th>\n",
       "    </tr>\n",
       "  </thead>\n",
       "  <tbody>\n",
       "    <tr>\n",
       "      <th>0</th>\n",
       "      <td>Afghanistan</td>\n",
       "      <td>AFG</td>\n",
       "      <td>2000</td>\n",
       "      <td>0.0</td>\n",
       "      <td>0.31</td>\n",
       "      <td>0.0</td>\n",
       "      <td>0.0</td>\n",
       "      <td>NaN</td>\n",
       "      <td>NaN</td>\n",
       "      <td>NaN</td>\n",
       "      <td>NaN</td>\n",
       "      <td>NaN</td>\n",
       "      <td>NaN</td>\n",
       "    </tr>\n",
       "    <tr>\n",
       "      <th>1</th>\n",
       "      <td>Afghanistan</td>\n",
       "      <td>AFG</td>\n",
       "      <td>2001</td>\n",
       "      <td>0.0</td>\n",
       "      <td>0.50</td>\n",
       "      <td>0.0</td>\n",
       "      <td>0.0</td>\n",
       "      <td>NaN</td>\n",
       "      <td>NaN</td>\n",
       "      <td>NaN</td>\n",
       "      <td>NaN</td>\n",
       "      <td>NaN</td>\n",
       "      <td>NaN</td>\n",
       "    </tr>\n",
       "    <tr>\n",
       "      <th>2</th>\n",
       "      <td>Afghanistan</td>\n",
       "      <td>AFG</td>\n",
       "      <td>2002</td>\n",
       "      <td>0.0</td>\n",
       "      <td>0.56</td>\n",
       "      <td>0.0</td>\n",
       "      <td>0.0</td>\n",
       "      <td>NaN</td>\n",
       "      <td>NaN</td>\n",
       "      <td>NaN</td>\n",
       "      <td>NaN</td>\n",
       "      <td>NaN</td>\n",
       "      <td>NaN</td>\n",
       "    </tr>\n",
       "    <tr>\n",
       "      <th>3</th>\n",
       "      <td>Afghanistan</td>\n",
       "      <td>AFG</td>\n",
       "      <td>2003</td>\n",
       "      <td>0.0</td>\n",
       "      <td>0.63</td>\n",
       "      <td>0.0</td>\n",
       "      <td>0.0</td>\n",
       "      <td>NaN</td>\n",
       "      <td>NaN</td>\n",
       "      <td>NaN</td>\n",
       "      <td>NaN</td>\n",
       "      <td>NaN</td>\n",
       "      <td>NaN</td>\n",
       "    </tr>\n",
       "    <tr>\n",
       "      <th>4</th>\n",
       "      <td>Afghanistan</td>\n",
       "      <td>AFG</td>\n",
       "      <td>2004</td>\n",
       "      <td>0.0</td>\n",
       "      <td>0.56</td>\n",
       "      <td>0.0</td>\n",
       "      <td>0.0</td>\n",
       "      <td>NaN</td>\n",
       "      <td>NaN</td>\n",
       "      <td>NaN</td>\n",
       "      <td>NaN</td>\n",
       "      <td>NaN</td>\n",
       "      <td>NaN</td>\n",
       "    </tr>\n",
       "  </tbody>\n",
       "</table>\n",
       "</div>"
      ],
      "text/plain": [
       "        Entity Code  Year  Electricity from wind (TWh)  \\\n",
       "0  Afghanistan  AFG  2000                          0.0   \n",
       "1  Afghanistan  AFG  2001                          0.0   \n",
       "2  Afghanistan  AFG  2002                          0.0   \n",
       "3  Afghanistan  AFG  2003                          0.0   \n",
       "4  Afghanistan  AFG  2004                          0.0   \n",
       "\n",
       "   Electricity from hydro (TWh)  Electricity from solar (TWh)  \\\n",
       "0                          0.31                           0.0   \n",
       "1                          0.50                           0.0   \n",
       "2                          0.56                           0.0   \n",
       "3                          0.63                           0.0   \n",
       "4                          0.56                           0.0   \n",
       "\n",
       "   Other renewables including bioenergy (TWh)  Geo Biomass Other - TWh  \\\n",
       "0                                         0.0                      NaN   \n",
       "1                                         0.0                      NaN   \n",
       "2                                         0.0                      NaN   \n",
       "3                                         0.0                      NaN   \n",
       "4                                         0.0                      NaN   \n",
       "\n",
       "   Solar Generation - TWh  Wind Generation - TWh  Hydro Generation - TWh  \\\n",
       "0                     NaN                    NaN                     NaN   \n",
       "1                     NaN                    NaN                     NaN   \n",
       "2                     NaN                    NaN                     NaN   \n",
       "3                     NaN                    NaN                     NaN   \n",
       "4                     NaN                    NaN                     NaN   \n",
       "\n",
       "   Renewables (% equivalent primary energy)  Solar Capacity  \n",
       "0                                       NaN             NaN  \n",
       "1                                       NaN             NaN  \n",
       "2                                       NaN             NaN  \n",
       "3                                       NaN             NaN  \n",
       "4                                       NaN             NaN  "
      ]
     },
     "execution_count": 4,
     "metadata": {},
     "output_type": "execute_result"
    }
   ],
   "source": [
    "merged_df = production_df.merge(consumption_df , on = ['Entity', 'Year', 'Code'], how='outer')\n",
    "merged_df = merged_df.merge(share_energy_df , on = ['Entity', 'Year', 'Code'], how='outer')\n",
    "merged_df = merged_df.merge(solar_cap_df, on = ['Entity', 'Year', 'Code'], how='outer')"
   ]
  },
  {
   "cell_type": "code",
   "execution_count": 5,
   "metadata": {
    "id": "8sa2vV01rA-d"
   },
   "outputs": [],
   "source": [
    "# Normalización de los datos y creación de las tablas"
   ]
  },
  {
   "cell_type": "code",
   "execution_count": 6,
   "metadata": {
    "id": "-MLJykUBdOtz"
   },
   "outputs": [],
   "source": [
    "# Crear la tabla de países/regiones sin duplicados\n",
    "countries_df = merged_df[['Entity', 'Code']].drop_duplicates().reset_index(drop=True)\n",
    "countries_df['country_id'] = countries_df.index + 1\n",
    "countries_df = countries_df[['country_id', 'Entity', 'Code']]"
   ]
  },
  {
   "cell_type": "code",
   "execution_count": 7,
   "metadata": {
    "id": "dXyQauYArL0q"
   },
   "outputs": [],
   "source": [
    "# Crear el DataFrame de continentes utilizando diccionario por registro\n",
    "data_continentes = [\n",
    "    {'Continent': 'Africa', 'continent_id': 1},\n",
    "    {'Continent': 'North America', 'continent_id': 2},\n",
    "    {'Continent': 'South America', 'continent_id': 3},\n",
    "    {'Continent': 'Oceania', 'continent_id': 4},\n",
    "    {'Continent': 'Europe', 'continent_id': 5},\n",
    "    {'Continent': 'Asia', 'continent_id': 6},\n",
    "    {'Continent': 'Other', 'continent_id': 7}\n",
    "]\n",
    "\n",
    "# Crear el DataFrame\n",
    "continentes_df = pd.DataFrame(data_continentes)\n",
    "continentes_df = continentes_df[['continent_id', 'Continent']]\n",
    "\n",
    "# Usamos un csv con los países y su respectivo continente\n",
    "continentes_paises_df = pd.read_csv('CSVS\\\\18 Countries by continents.csv')\n",
    "continentes_paises_df = continentes_paises_df.rename(columns={'Country':'Entity'})\n",
    "\n",
    "# Asignar el continente al país usando el csv\n",
    "countries_df = countries_df.merge(continentes_paises_df, on='Entity', how='left')\n",
    "\n",
    "# Añadimos los continentes manualmente en algunos de los países restantes\n",
    "countries_df.loc[countries_df['Entity'].isin(['Bermuda', 'Greenland', 'Puerto Rico']), 'Continent'] = 'North America'\n",
    "countries_df.loc[countries_df['Entity'].isin(['Aruba']), 'Continent'] = 'South America'\n",
    "countries_df.loc[countries_df['Entity'].isin(['Samoa', 'Guam']), 'Continent'] = 'Oceania'\n",
    "countries_df.loc[countries_df['Entity'].isin(['Burkina Faso', \"Cote d'Ivoire\", 'Eswatini']), 'Continent'] = 'Africa'\n",
    "countries_df.loc[countries_df['Entity'].isin(['Kosovo', 'North Macedonia']), 'Continent'] = 'Europe' \n",
    "countries_df.loc[countries_df['Entity'].isin(['Myanmar', 'Macao', 'Palestine']), 'Continent'] = 'Asia'"
   ]
  },
  {
   "cell_type": "code",
   "execution_count": 8,
   "metadata": {},
   "outputs": [],
   "source": [
    "# Crear una nueva columna 'id_continente' y asignar el continente\n",
    "countries_df = countries_df.merge(continentes_df, on = 'Continent', how = 'left')\n",
    "countries_df = countries_df.drop(columns='Continent')\n",
    "countries_df = countries_df.reset_index(drop=True)\n",
    "countries_df['continent_id'] = countries_df['continent_id'].fillna(7).astype(int)\n"
   ]
  },
  {
   "cell_type": "code",
   "execution_count": 9,
   "metadata": {
    "id": "N78mH6kc2l3T"
   },
   "outputs": [],
   "source": [
    "# Añadir las llaves fóraneas de país y contiente al df original\n",
    "\n",
    "# Unir con el dataframe original para asignar country_id llave foránea\n",
    "values_df = merged_df.merge(countries_df, on=['Entity', 'Code'], how='left')\n",
    "values_df = values_df.drop(columns=['Entity', 'Code'])\n"
   ]
  },
  {
   "cell_type": "code",
   "execution_count": 10,
   "metadata": {
    "id": "e_4Y1on8rJtz"
   },
   "outputs": [],
   "source": [
    "# Crear la tabla de años sin duplicados\n",
    "years_df = merged_df[['Year']].drop_duplicates().reset_index(drop = True)\n",
    "years_df.insert(0, 'year_id', range(1, len(years_df) + 1))\n",
    "\n",
    "#Unir con el dataframe original para asignar year_id como llave foránea\n",
    "values_df = values_df.merge(years_df, on='Year', how='left')\n",
    "values_df = values_df.drop(columns=['Year'])"
   ]
  },
  {
   "cell_type": "code",
   "execution_count": 11,
   "metadata": {
    "id": "4Z_m6NPd3z3c"
   },
   "outputs": [],
   "source": [
    "# Datos comunes y preparación del values_df\n",
    "foreign_keys = ['country_id', 'year_id']\n",
    "\n",
    "# Cambiamos los valor nulos por 0\n",
    "values_df = values_df.fillna(0)"
   ]
  },
  {
   "cell_type": "code",
   "execution_count": 12,
   "metadata": {
    "id": "gbGaOoVE24N7"
   },
   "outputs": [],
   "source": [
    "# Crear la tabla de consumo conservando las llaves foráneas\n",
    "consumption_df = values_df[['Geo Biomass Other - TWh', 'Solar Generation - TWh', 'Wind Generation - TWh', 'Hydro Generation - TWh'] + foreign_keys]\n",
    "consumption_df.index += 1"
   ]
  },
  {
   "cell_type": "code",
   "execution_count": 13,
   "metadata": {
    "id": "AxppB6_T2__r"
   },
   "outputs": [],
   "source": [
    "# Crear la tabla de producción conservando las llaves foráneas\n",
    "production_df = values_df[['Electricity from wind (TWh)', 'Electricity from hydro (TWh)', 'Electricity from solar (TWh)', 'Other renewables including bioenergy (TWh)'] + foreign_keys]\n",
    "production_df.index += 1"
   ]
  },
  {
   "cell_type": "code",
   "execution_count": 14,
   "metadata": {
    "id": "pL_L-upG3AiE"
   },
   "outputs": [],
   "source": [
    "# Crear la tabla de porcentaje de energía renovable respecto al total conservando las llaves foráneas\n",
    "renewable_percent_df = values_df[['Renewables (% equivalent primary energy)'] + foreign_keys]\n",
    "renewable_percent_df.index += 1"
   ]
  },
  {
   "cell_type": "code",
   "execution_count": 15,
   "metadata": {
    "id": "I4kbhiI83A-X"
   },
   "outputs": [],
   "source": [
    "# Crear la tabla de capacidad de energía solar conservando las llaves foráneas\n",
    "solar_capacity_df = values_df[['Solar Capacity'] + foreign_keys]\n",
    "solar_capacity_df.index += 1"
   ]
  },
  {
   "cell_type": "code",
   "execution_count": 16,
   "metadata": {
    "id": "42tq7bb6rQQi"
   },
   "outputs": [],
   "source": [
    "# Exportar los CSVs normalizados\n",
    "countries_df.to_csv('entities.csv', index=False)\n",
    "years_df.to_csv('years.csv', index=False)\n",
    "continentes_df.to_csv('regions.csv',index=False)\n",
    "consumption_df.to_csv('consumption.csv')\n",
    "production_df.to_csv('production.csv')\n",
    "renewable_percent_df.to_csv('renewable_percent.csv')\n",
    "solar_capacity_df.to_csv('solar_capacity.csv')"
   ]
  },
  {
   "cell_type": "code",
   "execution_count": null,
   "metadata": {
    "id": "Gk3SFibKdOt0",
    "outputId": "edba5ffb-9bfb-45c1-d749-04942a802dce"
   },
   "outputs": [
    {
     "data": {
      "text/plain": [
       "\"\\n-- 1. Tabla para entities.csv\\nCREATE TABLE entities (\\n    entity_id INT PRIMARY KEY,\\n    entity VARCHAR(255) NOT NULL,\\n    code VARCHAR(10),\\n    region_id INT,\\n    FOREIGN KEY (region_id) REFERENCES regions(region_id)\\n);\\n\\n-- 2. Tabla para years.csv\\nCREATE TABLE years (\\n    year_id INT PRIMARY KEY,\\n    year INT NOT NULL\\n);\\n\\n-- 3. Tabla para regions.csv\\nCREATE TABLE regions (\\n    region_id INT PRIMARY KEY,\\n    region VARCHAR(255) NOT NULL\\n);\\n\\n-- 4. Tabla para consumption.csv\\nCREATE TABLE renewable_energy_consumption (\\n    id INT PRIMARY KEY AUTO_INCREMENT,\\n    bioenergy_TWh FLOAT NOT NULL,\\n    solar_TWh FLOAT NOT NULL,\\n    wind_TWh FLOAT NOT NULL,\\n    hydro_TWh FLOAT NOT NULL,\\n    entity_id INT,\\n    region_id INT,\\n    year_id INT,\\n    FOREIGN KEY (entity_id) REFERENCES entities(entity_id),\\n    FOREIGN KEY (region_id) REFERENCES regions(region_id),\\n    FOREIGN KEY (year_id) REFERENCES years(year_id)\\n);\\n\\n-- 5. Tabla para production.csv\\nCREATE TABLE renewable_energy_production (\\n    id INT PRIMARY KEY AUTO_INCREMENT,\\n    wind_TWh FLOAT NOT NULL,\\n    hydro_TWh FLOAT NOT NULL,\\n    solar_TWh FLOAT NOT NULL,\\n    bioenergy_TWh FLOAT NOT NULL,\\n    entity_id INT,\\n    region_id INT,\\n    year_id INT,\\n    FOREIGN KEY (entity_id) REFERENCES entities(entity_id),\\n    FOREIGN KEY (region_id) REFERENCES regions(region_id),\\n    FOREIGN KEY (year_id) REFERENCES years(year_id)\\n);\\n\\n-- 6. Tabla para renewable_percent.csv\\nCREATE TABLE renewable_percent (\\n    id INT PRIMARY KEY AUTO_INCREMENT,\\n    renewables_percent FLOAT NOT NULL,\\n    entity_id INT,\\n    region_id INT,\\n    year_id INT,\\n    FOREIGN KEY (entity_id) REFERENCES entities(entity_id),\\n    FOREIGN KEY (region_id) REFERENCES regions(region_id),\\n    FOREIGN KEY (year_id) REFERENCES years(year_id)\\n);\\n\\n-- 7. Tabla para solar_capacity.csv\\nCREATE TABLE solar_capacity (\\n    id INT PRIMARY KEY AUTO_INCREMENT,\\n    solar_capacity FLOAT NOT NULL,\\n    entity_id INT,\\n    region_id INT,\\n    year_id INT,\\n    FOREIGN KEY (entity_id) REFERENCES entities(entity_id),\\n    FOREIGN KEY (region_id) REFERENCES regions(region_id),\\n    FOREIGN KEY (year_id) REFERENCES years(year_id)\\n);\\n\\n-- Ejemplos Select's\\nSELECT * FROM entities;\\nSELECT * FROM years;\\nSELECT * FROM regions;\\nSELECT * FROM consumption;\\nSELECT * FROM production;\\nSELECT * FROM renewable_percent;\\nSELECT * FROM solar_capacity;\\n\""
      ]
     },
     "execution_count": 17,
     "metadata": {},
     "output_type": "execute_result"
    }
   ],
   "source": [
    "\"\"\"\n",
    "-- 1. Tabla para regions.csv\n",
    "CREATE TABLE regions (\n",
    "    region_id INT PRIMARY KEY AUTO_INCREMENT,\n",
    "    region VARCHAR(255) NOT NULL\n",
    ");\n",
    "\n",
    "-- 2. Tabla para entities.csv\n",
    "CREATE TABLE entities (\n",
    "    entity_id INT PRIMARY KEY AUTO_INCREMENT,\n",
    "    entity VARCHAR(255) NOT NULL,\n",
    "    code VARCHAR(10),\n",
    "    region_id INT,\n",
    "    FOREIGN KEY (region_id) REFERENCES regions(region_id) ON DELETE SET NULL ON UPDATE CASCADE\n",
    ");\n",
    "\n",
    "-- 3. Tabla para years.csv\n",
    "CREATE TABLE years (\n",
    "    year_id INT PRIMARY KEY AUTO_INCREMENT,\n",
    "    year INT NOT NULL UNIQUE\n",
    ");\n",
    "\n",
    "-- 4. Tabla para renewable_energy_consumption.csv\n",
    "CREATE TABLE renewable_energy_consumption (\n",
    "    id INT PRIMARY KEY AUTO_INCREMENT,\n",
    "    bioenergy_TWh FLOAT NOT NULL,\n",
    "    solar_TWh FLOAT NOT NULL,\n",
    "    wind_TWh FLOAT NOT NULL,\n",
    "    hydro_TWh FLOAT NOT NULL,\n",
    "    entity_id INT NOT NULL,\n",
    "    year_id INT NOT NULL,\n",
    "    FOREIGN KEY (entity_id) REFERENCES entities(entity_id) ON DELETE CASCADE ON UPDATE CASCADE,\n",
    "    FOREIGN KEY (year_id) REFERENCES years(year_id) ON DELETE CASCADE ON UPDATE CASCADE\n",
    ");\n",
    "\n",
    "-- 5. Tabla para renewable_energy_production.csv\n",
    "CREATE TABLE renewable_energy_production (\n",
    "    id INT PRIMARY KEY AUTO_INCREMENT,\n",
    "    wind_TWh FLOAT NOT NULL,\n",
    "    hydro_TWh FLOAT NOT NULL,\n",
    "    solar_TWh FLOAT NOT NULL,\n",
    "    bioenergy_TWh FLOAT NOT NULL,\n",
    "    entity_id INT NOT NULL,\n",
    "    year_id INT NOT NULL,\n",
    "    FOREIGN KEY (entity_id) REFERENCES entities(entity_id) ON DELETE CASCADE ON UPDATE CASCADE,\n",
    "    FOREIGN KEY (year_id) REFERENCES years(year_id) ON DELETE CASCADE ON UPDATE CASCADE\n",
    ");\n",
    "\n",
    "-- 6. Tabla para renewable_percent.csv\n",
    "CREATE TABLE renewable_percent (\n",
    "    id INT PRIMARY KEY AUTO_INCREMENT,\n",
    "    renewables_percent FLOAT NOT NULL,\n",
    "    entity_id INT NOT NULL,\n",
    "    year_id INT NOT NULL,\n",
    "    FOREIGN KEY (entity_id) REFERENCES entities(entity_id) ON DELETE CASCADE ON UPDATE CASCADE,\n",
    "    FOREIGN KEY (year_id) REFERENCES years(year_id) ON DELETE CASCADE ON UPDATE CASCADE\n",
    ");\n",
    "\n",
    "-- 7. Tabla para solar_capacity.csv\n",
    "CREATE TABLE solar_capacity (\n",
    "    id INT PRIMARY KEY AUTO_INCREMENT,\n",
    "    solar_capacity FLOAT NOT NULL,\n",
    "    entity_id INT NOT NULL,\n",
    "    year_id INT NOT NULL,\n",
    "    FOREIGN KEY (entity_id) REFERENCES entities(entity_id) ON DELETE CASCADE ON UPDATE CASCADE,\n",
    "    FOREIGN KEY (year_id) REFERENCES years(year_id) ON DELETE CASCADE ON UPDATE CASCADE\n",
    ");\n",
    "\n",
    "-- Ejemplos Select's\n",
    "SELECT * FROM entities;\n",
    "SELECT * FROM years;\n",
    "SELECT * FROM regions;\n",
    "SELECT * FROM consumption;\n",
    "SELECT * FROM production;\n",
    "SELECT * FROM renewable_percent;\n",
    "SELECT * FROM solar_capacity;\n",
    "\"\"\""
   ]
  }
 ],
 "metadata": {
  "colab": {
   "provenance": []
  },
  "kernelspec": {
   "display_name": "Python 3",
   "language": "python",
   "name": "python3"
  },
  "language_info": {
   "codemirror_mode": {
    "name": "ipython",
    "version": 3
   },
   "file_extension": ".py",
   "mimetype": "text/x-python",
   "name": "python",
   "nbconvert_exporter": "python",
   "pygments_lexer": "ipython3",
   "version": "3.13.2"
  }
 },
 "nbformat": 4,
 "nbformat_minor": 0
}
